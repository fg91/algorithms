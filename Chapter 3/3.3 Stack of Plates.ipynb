{
 "cells": [
  {
   "cell_type": "markdown",
   "metadata": {},
   "source": [
    "Look at methods join and left_shift"
   ]
  },
  {
   "cell_type": "code",
   "execution_count": 289,
   "metadata": {
    "collapsed": true
   },
   "outputs": [],
   "source": [
    "class _StackNode:\n",
    "    \n",
    "    def __init__(self, data, below_Node=None, above_Node=None):\n",
    "        self.data = data\n",
    "        self.below = below_Node\n",
    "        self.above = above_Node\n",
    "        \n",
    "    def __str__(self):\n",
    "        return str(self.data)\n",
    "\n",
    "class MyStack:\n",
    "    \n",
    "    def __init__(self, capacity):\n",
    "        self.top = None\n",
    "        self.bottom = None\n",
    "        self.size = 0\n",
    "        self.capacity = capacity\n",
    "        \n",
    "    def join(self, above, below):\n",
    "        if below:\n",
    "            below.above = above\n",
    "        if above:\n",
    "            above.below = below\n",
    "        \n",
    "    def push(self, data):\n",
    "        if self.size >= self.capacity:\n",
    "            raise ValueError('Stack is full')\n",
    "        self.size += 1\n",
    "        new_Node = _StackNode(data)\n",
    "        if self.size == 1:\n",
    "            self.bottom = new_Node\n",
    "        self.join(new_Node, self.top)\n",
    "        self.top = new_Node\n",
    "        \n",
    "    def pop(self):\n",
    "        if self.top is None:\n",
    "            raise ValueError('Stack is Empty')\n",
    "        item = self.top.data\n",
    "        self.top = self.top.below\n",
    "        self.size -= 1\n",
    "        return item\n",
    "    \n",
    "    def remove_bottom(self):\n",
    "        item = self.bottom.data\n",
    "        self.bottom = self.bottom.above\n",
    "        if self.bottom is not None:\n",
    "            self.bottom.below = None\n",
    "        self.size -= 1\n",
    "        return item\n",
    "    \n",
    "    def peek(self):\n",
    "        if self.top is None:\n",
    "            raise ValueError('Stack is Empty')\n",
    "        return self.top.data\n",
    "    \n",
    "    def is_empty(self):\n",
    "        return self.size == 0\n",
    "    \n",
    "    def is_full(self):\n",
    "        return self.size == self.capacity\n",
    "    \n",
    "    def __str__(self):\n",
    "        values = [str(x) for x in self]\n",
    "        return ' , '.join(values)\n",
    "    \n",
    "    def __iter__(self):\n",
    "        current = self.top\n",
    "        while current:\n",
    "            yield current\n",
    "            current = current.below\n"
   ]
  },
  {
   "cell_type": "code",
   "execution_count": 290,
   "metadata": {
    "collapsed": true
   },
   "outputs": [],
   "source": [
    "class Stack_of_Plates:\n",
    "    \n",
    "    def __init__(self, capacity):\n",
    "        self.capacity = capacity\n",
    "        self.stacks = []\n",
    "        \n",
    "    def get_last_stack(self):\n",
    "        if len(self.stacks) == 0:\n",
    "            return None\n",
    "        return self.stacks[-1]\n",
    "        \n",
    "    def push(self,value):\n",
    "        last = self.get_last_stack()\n",
    "        # If there is an existing stack that is not full, add to it\n",
    "        if last is not None and last.is_full() is not True:\n",
    "            last.push(value)\n",
    "        # If there is no stack or the last stack is full, create a new one\n",
    "        else:\n",
    "            stack = MyStack(self.capacity)\n",
    "            stack.push(value)\n",
    "            self.stacks.append(stack)\n",
    "    \n",
    "    def pop(self):\n",
    "        last = self.get_last_stack()\n",
    "        if last is None:\n",
    "            raise ValueError(\"Stack is Empty\")\n",
    "        item = last.pop()\n",
    "        # If the last stack is empty, remove it from the stack list\n",
    "        if last.size is 0:\n",
    "            self.stacks.pop()\n",
    "        return item\n",
    "    \n",
    "    def is_empty(self):\n",
    "        last = self.get_last_stack()\n",
    "        return last is None or last.is_empty()\n",
    "    \n",
    "    def print(self):\n",
    "        for i in self.stacks:\n",
    "            print(i)\n",
    "            \n",
    "    def left_shift(self,index,remove_top):\n",
    "        stack = self.stacks[index]\n",
    "        if remove_top:\n",
    "            item = stack.pop()              # Remove from top\n",
    "        else:\n",
    "            item = stack.remove_bottom()    # Otherwise remove from bottom\n",
    "        if stack.is_empty():\n",
    "            del self.stacks[index]\n",
    "        elif len(self.stacks) > index + 1:  \n",
    "            v = self.left_shift(index + 1,False) # Call left_shift for next stack, remove bottom and stack on top of current stack.\n",
    "            stack.push(v)\n",
    "        return item\n",
    "    \n",
    "    def pop_at(self,index):\n",
    "        return self.left_shift(index,True)\n",
    "    "
   ]
  },
  {
   "cell_type": "code",
   "execution_count": 291,
   "metadata": {
    "collapsed": true
   },
   "outputs": [],
   "source": [
    "test_stack = Stack_of_Plates(4)"
   ]
  },
  {
   "cell_type": "code",
   "execution_count": 292,
   "metadata": {
    "collapsed": true
   },
   "outputs": [],
   "source": [
    "for i in range(1,13):\n",
    "    test_stack.push(i)"
   ]
  },
  {
   "cell_type": "code",
   "execution_count": 293,
   "metadata": {},
   "outputs": [
    {
     "name": "stdout",
     "output_type": "stream",
     "text": [
      "4 , 3 , 2 , 1\n",
      "8 , 7 , 6 , 5\n",
      "12 , 11 , 10 , 9\n"
     ]
    }
   ],
   "source": [
    "test_stack.print()"
   ]
  },
  {
   "cell_type": "code",
   "execution_count": 294,
   "metadata": {},
   "outputs": [
    {
     "data": {
      "text/plain": [
       "8"
      ]
     },
     "execution_count": 294,
     "metadata": {},
     "output_type": "execute_result"
    }
   ],
   "source": [
    "test_stack.pop_at(1)"
   ]
  },
  {
   "cell_type": "code",
   "execution_count": 295,
   "metadata": {},
   "outputs": [
    {
     "name": "stdout",
     "output_type": "stream",
     "text": [
      "4 , 3 , 2 , 1\n",
      "9 , 7 , 6 , 5\n",
      "12 , 11 , 10\n"
     ]
    }
   ],
   "source": [
    "test_stack.print()"
   ]
  },
  {
   "cell_type": "code",
   "execution_count": 296,
   "metadata": {
    "collapsed": true
   },
   "outputs": [],
   "source": [
    "import unittest"
   ]
  },
  {
   "cell_type": "code",
   "execution_count": 297,
   "metadata": {},
   "outputs": [
    {
     "name": "stderr",
     "output_type": "stream",
     "text": [
      "..\n",
      "----------------------------------------------------------------------\n",
      "Ran 2 tests in 0.006s\n",
      "\n",
      "OK\n"
     ]
    }
   ],
   "source": [
    "class Tests(unittest.TestCase):\n",
    "    def test_stacks(self):\n",
    "        stacks = Stack_of_Plates(5)\n",
    "        for i in range(35):\n",
    "            stacks.push(i)\n",
    "        compare = []\n",
    "        for _ in range(35):\n",
    "            compare.append(stacks.pop())\n",
    "        self.assertEqual(compare, list(reversed(range(35))))\n",
    "        \n",
    "    def test_pop_at(self):\n",
    "        stacks = Stack_of_Plates(5)\n",
    "        for i in range(35):\n",
    "            stacks.push(i)\n",
    "        compare = []\n",
    "        for _ in range(31):\n",
    "            compare.append(stacks.pop_at(0))\n",
    "        self.assertEqual(compare, list(range(4,35)))\n",
    "        \n",
    "if __name__==\"__main__\":\n",
    "    unittest.main(argv=['first-arg-is-ignored'], exit=False)"
   ]
  },
  {
   "cell_type": "code",
   "execution_count": null,
   "metadata": {
    "collapsed": true
   },
   "outputs": [],
   "source": []
  }
 ],
 "metadata": {
  "kernelspec": {
   "display_name": "Python 3",
   "language": "python",
   "name": "python3"
  },
  "language_info": {
   "codemirror_mode": {
    "name": "ipython",
    "version": 3
   },
   "file_extension": ".py",
   "mimetype": "text/x-python",
   "name": "python",
   "nbconvert_exporter": "python",
   "pygments_lexer": "ipython3",
   "version": "3.6.3"
  }
 },
 "nbformat": 4,
 "nbformat_minor": 2
}
