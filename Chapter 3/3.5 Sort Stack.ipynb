{
 "cells": [
  {
   "cell_type": "markdown",
   "metadata": {},
   "source": [
    "Create a temporary Stack. Pop the top element of Stack and store it in temp. If the value of temp is larger than tempStack.peek(), push it on tempStack. Otherwise first move the elements of tempStack onto Stack until the value of temp is larger than tempStack.peek(), then push temp onto tempStack and repeat this until Stack is empty. At this point tempStack is sorted in descending order. Move all elements from tempStack onto Stack. Stack is now sorted.\n",
    "Time complexity is O(n^2) and space O(n)"
   ]
  },
  {
   "cell_type": "code",
   "execution_count": 32,
   "metadata": {
    "collapsed": true
   },
   "outputs": [],
   "source": [
    "from Stacks import MyStack"
   ]
  },
  {
   "cell_type": "code",
   "execution_count": 33,
   "metadata": {},
   "outputs": [],
   "source": [
    "def sortStack(Stack):\n",
    "    tempStack = MyStack()\n",
    "    while not Stack.isEmpty():\n",
    "        temp = Stack.pop()\n",
    "        while not tempStack.isEmpty() and temp < tempStack.peek():\n",
    "            Stack.push(tempStack.pop())\n",
    "        tempStack.push(temp)\n",
    "    \n",
    "    # Move elements sorted in descending order back to Stack\n",
    "    while not tempStack.isEmpty():\n",
    "        Stack.push(tempStack.pop())\n",
    "    return Stack"
   ]
  },
  {
   "cell_type": "code",
   "execution_count": 34,
   "metadata": {
    "collapsed": true
   },
   "outputs": [],
   "source": [
    "testStack = MyStack()"
   ]
  },
  {
   "cell_type": "code",
   "execution_count": 35,
   "metadata": {
    "collapsed": true
   },
   "outputs": [],
   "source": [
    "testStack.push(9)\n",
    "testStack.push(3)\n",
    "testStack.push(7)\n",
    "testStack.push(8)\n",
    "testStack.push(1)\n",
    "testStack.push(3)\n",
    "testStack.push(11)\n",
    "testStack.push(8)\n",
    "testStack.push(1)\n",
    "testStack.push(5)\n",
    "testStack.push(2)\n",
    "testStack.push(0)\n",
    "testStack.push(1)\n",
    "testStack.push(3)\n",
    "testStack.push(13)\n",
    "testStack.push(8)"
   ]
  },
  {
   "cell_type": "code",
   "execution_count": 36,
   "metadata": {},
   "outputs": [
    {
     "name": "stdout",
     "output_type": "stream",
     "text": [
      "8 , 13 , 3 , 1 , 0 , 2 , 5 , 1 , 8 , 11 , 3 , 1 , 8 , 7 , 3 , 9\n"
     ]
    }
   ],
   "source": [
    "print(testStack)"
   ]
  },
  {
   "cell_type": "code",
   "execution_count": 37,
   "metadata": {},
   "outputs": [],
   "source": [
    "sortedStack = sortStack(testStack)"
   ]
  },
  {
   "cell_type": "code",
   "execution_count": 38,
   "metadata": {},
   "outputs": [
    {
     "name": "stdout",
     "output_type": "stream",
     "text": [
      "0 , 1 , 1 , 1 , 2 , 3 , 3 , 3 , 5 , 7 , 8 , 8 , 8 , 9 , 11 , 13\n"
     ]
    }
   ],
   "source": [
    "print(sortedStack)"
   ]
  },
  {
   "cell_type": "code",
   "execution_count": null,
   "metadata": {
    "collapsed": true
   },
   "outputs": [],
   "source": []
  }
 ],
 "metadata": {
  "kernelspec": {
   "display_name": "Python 3",
   "language": "python",
   "name": "python3"
  },
  "language_info": {
   "codemirror_mode": {
    "name": "ipython",
    "version": 3
   },
   "file_extension": ".py",
   "mimetype": "text/x-python",
   "name": "python",
   "nbconvert_exporter": "python",
   "pygments_lexer": "ipython3",
   "version": "3.6.3"
  }
 },
 "nbformat": 4,
 "nbformat_minor": 2
}
