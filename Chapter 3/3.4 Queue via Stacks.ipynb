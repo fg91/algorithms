{
 "cells": [
  {
   "cell_type": "code",
   "execution_count": 1,
   "metadata": {
    "collapsed": true
   },
   "outputs": [],
   "source": [
    "from Stacks import MyStack"
   ]
  },
  {
   "cell_type": "code",
   "execution_count": 11,
   "metadata": {
    "collapsed": true
   },
   "outputs": [],
   "source": [
    "class My_Queue:\n",
    "    \"\"\" Implements a Queue using two stacks \"\"\"\n",
    "    def __init__(self):\n",
    "        self.stack_newest = MyStack()\n",
    "        self.stack_oldest = MyStack()\n",
    "    \n",
    "    def push(self,data):\n",
    "        \"\"\" Pushes data onto stack_newest \"\"\"\n",
    "        self.stack_newest.push(data)\n",
    "        \n",
    "    def shift_Stacks(self):\n",
    "        \"\"\" Shifts all elements from stack_newest onto stack_oldest when stack_oldest is empty \"\"\"\n",
    "        if self.stack_oldest.isEmpty():\n",
    "            while self.stack_newest.isEmpty() is False:\n",
    "                self.stack_oldest.push(self.stack_newest.pop())\n",
    "                \n",
    "    def peek(self):\n",
    "        \"\"\" Ensure stack_oldest has the current elements \"\"\"\n",
    "        self.shift_Stacks()\n",
    "        return self.stack_oldest.top.data\n",
    "    \n",
    "    def pop(self):\n",
    "        self.shift_Stacks()\n",
    "        return self.stack_oldest.pop()\n",
    "    \n",
    "    def print(self):\n",
    "        print(self.stack_newest)\n",
    "        print(self.stack_oldest)"
   ]
  },
  {
   "cell_type": "code",
   "execution_count": 12,
   "metadata": {
    "collapsed": true
   },
   "outputs": [],
   "source": [
    "test_Queue = My_Queue()"
   ]
  },
  {
   "cell_type": "code",
   "execution_count": 13,
   "metadata": {},
   "outputs": [],
   "source": [
    "test_Queue.push(1)\n",
    "test_Queue.push(2)\n",
    "test_Queue.push(3)\n",
    "test_Queue.push(4)\n",
    "test_Queue.push(5)"
   ]
  },
  {
   "cell_type": "code",
   "execution_count": 14,
   "metadata": {},
   "outputs": [
    {
     "name": "stdout",
     "output_type": "stream",
     "text": [
      "5 , 4 , 3 , 2 , 1\n",
      "\n"
     ]
    }
   ],
   "source": [
    "test_Queue.print()"
   ]
  },
  {
   "cell_type": "code",
   "execution_count": 15,
   "metadata": {},
   "outputs": [
    {
     "data": {
      "text/plain": [
       "1"
      ]
     },
     "execution_count": 15,
     "metadata": {},
     "output_type": "execute_result"
    }
   ],
   "source": [
    "test_Queue.peek()"
   ]
  },
  {
   "cell_type": "code",
   "execution_count": 16,
   "metadata": {},
   "outputs": [
    {
     "name": "stdout",
     "output_type": "stream",
     "text": [
      "\n",
      "1 , 2 , 3 , 4 , 5\n"
     ]
    }
   ],
   "source": [
    "test_Queue.print()"
   ]
  },
  {
   "cell_type": "code",
   "execution_count": 17,
   "metadata": {
    "collapsed": true
   },
   "outputs": [],
   "source": [
    "test_Queue.push(6)"
   ]
  },
  {
   "cell_type": "code",
   "execution_count": 18,
   "metadata": {},
   "outputs": [
    {
     "name": "stdout",
     "output_type": "stream",
     "text": [
      "6\n",
      "1 , 2 , 3 , 4 , 5\n"
     ]
    }
   ],
   "source": [
    "test_Queue.print()"
   ]
  },
  {
   "cell_type": "code",
   "execution_count": 19,
   "metadata": {},
   "outputs": [
    {
     "data": {
      "text/plain": [
       "1"
      ]
     },
     "execution_count": 19,
     "metadata": {},
     "output_type": "execute_result"
    }
   ],
   "source": [
    "test_Queue.pop()"
   ]
  },
  {
   "cell_type": "code",
   "execution_count": 20,
   "metadata": {},
   "outputs": [
    {
     "name": "stdout",
     "output_type": "stream",
     "text": [
      "6\n",
      "2 , 3 , 4 , 5\n"
     ]
    }
   ],
   "source": [
    "test_Queue.print()"
   ]
  },
  {
   "cell_type": "code",
   "execution_count": 21,
   "metadata": {
    "collapsed": true
   },
   "outputs": [],
   "source": [
    "test_Queue.push(7)"
   ]
  },
  {
   "cell_type": "code",
   "execution_count": 22,
   "metadata": {},
   "outputs": [
    {
     "name": "stdout",
     "output_type": "stream",
     "text": [
      "7 , 6\n",
      "2 , 3 , 4 , 5\n"
     ]
    }
   ],
   "source": [
    "test_Queue.print()"
   ]
  },
  {
   "cell_type": "code",
   "execution_count": 23,
   "metadata": {},
   "outputs": [
    {
     "data": {
      "text/plain": [
       "2"
      ]
     },
     "execution_count": 23,
     "metadata": {},
     "output_type": "execute_result"
    }
   ],
   "source": [
    "test_Queue.peek()"
   ]
  },
  {
   "cell_type": "code",
   "execution_count": null,
   "metadata": {
    "collapsed": true
   },
   "outputs": [],
   "source": []
  }
 ],
 "metadata": {
  "kernelspec": {
   "display_name": "Python 3",
   "language": "python",
   "name": "python3"
  },
  "language_info": {
   "codemirror_mode": {
    "name": "ipython",
    "version": 3
   },
   "file_extension": ".py",
   "mimetype": "text/x-python",
   "name": "python",
   "nbconvert_exporter": "python",
   "pygments_lexer": "ipython3",
   "version": "3.6.3"
  }
 },
 "nbformat": 4,
 "nbformat_minor": 2
}
