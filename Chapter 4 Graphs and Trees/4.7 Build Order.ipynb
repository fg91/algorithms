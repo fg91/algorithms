{
 "cells": [
  {
   "cell_type": "markdown",
   "metadata": {},
   "source": [
    "This solution takes O(P+D) time where P is the number of projects and D the number of dependency pairs."
   ]
  },
  {
   "cell_type": "code",
   "execution_count": 1,
   "metadata": {
    "collapsed": true
   },
   "outputs": [],
   "source": [
    "class Project:\n",
    "    def __init__(self, name):\n",
    "        self.name = name\n",
    "        self.children = {}\n",
    "        self.dependencies = 0\n",
    "        \n",
    "    def addNeighbour(self, node):\n",
    "        if self.children.get(node.getName()) is None:\n",
    "            self.children[node.getName()] = node\n",
    "            node.incrementDependencies()\n",
    "            \n",
    "    def getName(self):\n",
    "        return self.name\n",
    "    \n",
    "    def getChildren(self):\n",
    "        return [self.children[key] for key in self.children.keys()]\n",
    "    \n",
    "    def getNumberDependencies(self):\n",
    "        return self.dependencies\n",
    "    \n",
    "    def incrementDependencies(self):\n",
    "        self.dependencies += 1\n",
    "        \n",
    "    def decrementDependencies(self):\n",
    "        self.dependencies -= 1\n",
    "        \n",
    "class Graph:\n",
    "    def __init__(self):\n",
    "        self.nodes = {}\n",
    "        \n",
    "    def getOrCreateNode(self, name):\n",
    "        if self.nodes.get(name) is None:\n",
    "            node = Project(name)\n",
    "            self.nodes[name] = node\n",
    "\n",
    "        return self.nodes.get(name)\n",
    "        \n",
    "    def addEdge(self, startName, endName):\n",
    "        start = self.getOrCreateNode(startName)\n",
    "        end = self.getOrCreateNode(endName)\n",
    "        \n",
    "        start.addNeighbour(end)\n",
    "        \n",
    "    def getNodes(self):\n",
    "        return [self.nodes[key] for key in self.nodes.keys()]"
   ]
  },
  {
   "cell_type": "code",
   "execution_count": 2,
   "metadata": {
    "collapsed": true
   },
   "outputs": [],
   "source": [
    "def buildGraph(projects, dependencies):\n",
    "    graph = Graph()\n",
    "    \n",
    "    # First, create all the projects and then add directed links for all the dependencies\n",
    "    for project in projects:\n",
    "        graph.getOrCreateNode(project)\n",
    "        \n",
    "    for dependency, project in dependencies:\n",
    "        graph.addEdge(dependency, project)\n",
    "        \n",
    "    return graph"
   ]
  },
  {
   "cell_type": "markdown",
   "metadata": {},
   "source": [
    "### Solution to problem"
   ]
  },
  {
   "cell_type": "code",
   "execution_count": 3,
   "metadata": {
    "collapsed": true
   },
   "outputs": [],
   "source": [
    "def findBuildOrder(projects, dependencies):\n",
    "    graph = buildGraph(projects, dependencies)\n",
    "    return orderProjects(graph.getNodes())"
   ]
  },
  {
   "cell_type": "code",
   "execution_count": 4,
   "metadata": {},
   "outputs": [],
   "source": [
    "def addNonDependent(order, projects, offset):\n",
    "    \"\"\" Returns a list with projects with zero dependencies \"\"\"\n",
    "    for project in projects:\n",
    "        if project.getNumberDependencies() == 0:\n",
    "            order[offset] = project\n",
    "            offset += 1\n",
    "    return offset, order"
   ]
  },
  {
   "cell_type": "code",
   "execution_count": 5,
   "metadata": {},
   "outputs": [],
   "source": [
    "def orderProjects(projects):\n",
    "    \"\"\" Returns a list of the projects in a correct build order \"\"\"\n",
    "    order = [None] * len(projects)\n",
    "\n",
    "    # Add roots to the build order\n",
    "    endOfList, order = addNonDependent(order, projects, 0)\n",
    "    \n",
    "    toBeProcessed = 0\n",
    "    while toBeProcessed < len(order):\n",
    "        current = order[toBeProcessed]\n",
    "       \n",
    "        # If the current project is None meaning there are no projects without dependencies, we have circular dependency\n",
    "        if current is None:\n",
    "            return None\n",
    "        \n",
    "        # Remove myself as a dependency\n",
    "        children = current.getChildren()\n",
    "        for child in children:\n",
    "            child.decrementDependencies()\n",
    "           \n",
    "        endOfList, order = addNonDependent(order, children, endOfList)\n",
    "        toBeProcessed += 1\n",
    "       \n",
    "    return order"
   ]
  },
  {
   "cell_type": "code",
   "execution_count": 6,
   "metadata": {
    "collapsed": true
   },
   "outputs": [],
   "source": [
    "projects = [\"f\",\"c\",\"b\",\"a\",\"e\",\"d\",\"g\"]\n",
    "dependencies = [[\"f\",\"c\"],[\"f\",\"a\"],[\"f\",\"b\"],[\"c\",\"a\"],[\"b\",\"a\"],[\"b\",\"e\"],[\"a\",\"e\"],[\"d\",\"g\"]]"
   ]
  },
  {
   "cell_type": "code",
   "execution_count": 7,
   "metadata": {
    "collapsed": true
   },
   "outputs": [],
   "source": [
    "order = findBuildOrder(projects, dependencies)\n"
   ]
  },
  {
   "cell_type": "code",
   "execution_count": 9,
   "metadata": {},
   "outputs": [
    {
     "name": "stdout",
     "output_type": "stream",
     "text": [
      "f\n",
      "d\n",
      "c\n",
      "b\n",
      "g\n",
      "a\n",
      "e\n"
     ]
    }
   ],
   "source": [
    "for o in order:\n",
    "    print(o.name)"
   ]
  },
  {
   "cell_type": "code",
   "execution_count": null,
   "metadata": {
    "collapsed": true
   },
   "outputs": [],
   "source": []
  }
 ],
 "metadata": {
  "kernelspec": {
   "display_name": "Python 3",
   "language": "python",
   "name": "python3"
  },
  "language_info": {
   "codemirror_mode": {
    "name": "ipython",
    "version": 3
   },
   "file_extension": ".py",
   "mimetype": "text/x-python",
   "name": "python",
   "nbconvert_exporter": "python",
   "pygments_lexer": "ipython3",
   "version": "3.6.3"
  }
 },
 "nbformat": 4,
 "nbformat_minor": 2
}
