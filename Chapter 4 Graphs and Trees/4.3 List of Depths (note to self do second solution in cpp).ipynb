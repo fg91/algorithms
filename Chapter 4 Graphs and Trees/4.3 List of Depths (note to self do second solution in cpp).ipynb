{
 "cells": [
  {
   "cell_type": "markdown",
   "metadata": {},
   "source": [
    "Time efficiency for both is O(n) where n is number of nodes\n",
    "\n",
    "Space complexity:\n",
    "First solution uses O(log n) recursive calls (in a balanced tree) which add a new level to the stack. Second iterative solution does not need that extra space.\n",
    "\n",
    "However, both need O(n) to store the list of nodes.\n",
    "\n",
    "First: O(n + log n) = O(n)\n",
    "\n",
    "Second: O(n)"
   ]
  },
  {
   "cell_type": "code",
   "execution_count": 1,
   "metadata": {
    "collapsed": true
   },
   "outputs": [],
   "source": [
    "class TreeNode:\n",
    "    def __init__(self, data):\n",
    "        self.data = data\n",
    "        self.left = None\n",
    "        self.right = None"
   ]
  },
  {
   "cell_type": "code",
   "execution_count": 2,
   "metadata": {},
   "outputs": [],
   "source": [
    "def listOfDepths(root):\n",
    "    if root is None:\n",
    "        return\n",
    "    depthList = []\n",
    "    _listOfDepths(root, 0, depthList)\n",
    "    return depthList\n",
    "    \n",
    "    \n",
    "def _listOfDepths(root, depth, depthList):\n",
    "    if root is None:\n",
    "        return\n",
    "    if depth == len(depthList):\n",
    "        depthList.append([])\n",
    "    depthList[depth].append(root)\n",
    "\n",
    "    _listOfDepths(root.left, depth + 1, depthList)\n",
    "    _listOfDepths(root.right, depth + 1, depthList)"
   ]
  },
  {
   "cell_type": "code",
   "execution_count": 3,
   "metadata": {
    "collapsed": true
   },
   "outputs": [],
   "source": [
    "def listOfDepthsBFS(root):\n",
    "    result = []\n",
    "    # Visit the root\n",
    "    current = []\n",
    "    if root is not None:\n",
    "        current.append(root)\n",
    "    while len(current) > 0:\n",
    "        # Add previous level to result list\n",
    "        result.append(current)\n",
    "        # Go to next level\n",
    "        parents = current\n",
    "        current = []\n",
    "        \n",
    "        for parent in parents:\n",
    "            if parent.left is not None:\n",
    "                current.append(parent.left)\n",
    "            if parent.right is not None:\n",
    "                current.append(parent.right)\n",
    "        \n",
    "    return result"
   ]
  },
  {
   "cell_type": "code",
   "execution_count": 4,
   "metadata": {
    "collapsed": true
   },
   "outputs": [],
   "source": [
    "#            1\n",
    "#         0     2\n",
    "#      -1  5  50  37\n",
    "#         11   12\n",
    "#                77\n",
    "root = TreeNode(1)\n",
    "root.left = TreeNode(0)\n",
    "root.right = TreeNode(2)\n",
    "root.left.left = TreeNode(-1)\n",
    "root.left.right = TreeNode(5)\n",
    "root.right.left = TreeNode(50)\n",
    "root.right.right = TreeNode(37)\n",
    "root.left.right.left = TreeNode(11)\n",
    "root.right.left.right = TreeNode(12)\n",
    "root.right.left.right.right = TreeNode(77)"
   ]
  },
  {
   "cell_type": "code",
   "execution_count": 5,
   "metadata": {},
   "outputs": [],
   "source": [
    "l = listOfDepths(root)"
   ]
  },
  {
   "cell_type": "code",
   "execution_count": 6,
   "metadata": {},
   "outputs": [
    {
     "name": "stdout",
     "output_type": "stream",
     "text": [
      "[1]\n",
      "[0, 2]\n",
      "[-1, 5, 50, 37]\n",
      "[11, 12]\n",
      "[77]\n"
     ]
    }
   ],
   "source": [
    "for level in l:\n",
    "    print([node.data for node in level])\n"
   ]
  },
  {
   "cell_type": "code",
   "execution_count": 7,
   "metadata": {
    "collapsed": true
   },
   "outputs": [],
   "source": [
    "l = listOfDepthsBFS(root)"
   ]
  },
  {
   "cell_type": "code",
   "execution_count": 8,
   "metadata": {},
   "outputs": [
    {
     "name": "stdout",
     "output_type": "stream",
     "text": [
      "[1]\n",
      "[0, 2]\n",
      "[-1, 5, 50, 37]\n",
      "[11, 12]\n",
      "[77]\n"
     ]
    }
   ],
   "source": [
    "for level in l:\n",
    "    print([node.data for node in level])\n",
    "\n"
   ]
  },
  {
   "cell_type": "code",
   "execution_count": null,
   "metadata": {
    "collapsed": true
   },
   "outputs": [],
   "source": []
  }
 ],
 "metadata": {
  "kernelspec": {
   "display_name": "Python 3",
   "language": "python",
   "name": "python3"
  },
  "language_info": {
   "codemirror_mode": {
    "name": "ipython",
    "version": 3
   },
   "file_extension": ".py",
   "mimetype": "text/x-python",
   "name": "python",
   "nbconvert_exporter": "python",
   "pygments_lexer": "ipython3",
   "version": "3.6.3"
  }
 },
 "nbformat": 4,
 "nbformat_minor": 2
}
