{
 "cells": [
  {
   "cell_type": "code",
   "execution_count": 75,
   "metadata": {
    "collapsed": true
   },
   "outputs": [],
   "source": [
    "def weaveLists(first, second, results, prefix):\n",
    "    \"\"\" \n",
    "    Weaves lists together in all possible ways. Works by removing the head from one list \n",
    "    and appending it to prefix, recursing and then doing the same thing with the other list.\n",
    "    \"\"\"\n",
    "    if len(first) == 0 or len(second) == 0:\n",
    "        result = prefix.copy()\n",
    "        result.extend(first)\n",
    "        result.extend(second)\n",
    "        results.append(result)\n",
    "        return\n",
    "    \n",
    "    \"\"\"\n",
    "    Recurse with head of first added to the prefix. Removing the head will damage first, so we will \n",
    "    put it back where we found it afterwards.\n",
    "    \"\"\"\n",
    "    headFirst = first.pop(0)\n",
    "    prefix.append(headFirst)\n",
    "    weaveLists(first, second, results, prefix)\n",
    "    prefix.pop()\n",
    "    first.insert(0, headFirst)\n",
    "    \n",
    "    \"\"\"\n",
    "    Do the same thing with second.\n",
    "    \"\"\"\n",
    "    headSecond = second.pop(0)\n",
    "    prefix.append(headSecond)\n",
    "    weaveLists(first, second, results, prefix)\n",
    "    prefix.pop()\n",
    "    second.insert(0, headSecond)"
   ]
  },
  {
   "cell_type": "code",
   "execution_count": 76,
   "metadata": {
    "collapsed": true
   },
   "outputs": [],
   "source": [
    "def allSequences(node):\n",
    "    result = []\n",
    "    if node is None:\n",
    "        result.append([])\n",
    "        return result\n",
    "    \n",
    "    prefix = []\n",
    "    prefix.append(node.data)\n",
    "    \n",
    "    # Recurse on left and right subtrees.\n",
    "    leftSeq = allSequences(node.left)\n",
    "    rightSeq = allSequences(node.right)\n",
    "\n",
    "    # Weave together each list from the left and right sides:\n",
    "    for l in leftSeq:\n",
    "        for r in rightSeq:\n",
    "            weaved = []\n",
    "            weaveLists(l, r, weaved, prefix)\n",
    "            result.extend(weaved)\n",
    "    return result"
   ]
  },
  {
   "cell_type": "markdown",
   "metadata": {},
   "source": [
    "Let us test it:"
   ]
  },
  {
   "cell_type": "code",
   "execution_count": 77,
   "metadata": {
    "collapsed": true
   },
   "outputs": [],
   "source": [
    "class BSTNode:\n",
    "    def __init__(self, data):\n",
    "        self.data = data\n",
    "        self.left = None\n",
    "        self.right = None"
   ]
  },
  {
   "cell_type": "code",
   "execution_count": 78,
   "metadata": {
    "collapsed": true
   },
   "outputs": [],
   "source": [
    "#      1\n",
    "#    /  \\\n",
    "#   0    3\n",
    "#       / \\\n",
    "#      2   4\n",
    "root = BSTNode(1)\n",
    "root.left = BSTNode(0)\n",
    "root.right = BSTNode(3)\n",
    "root.right.left = BSTNode(2)\n",
    "root.right.right = BSTNode(4)"
   ]
  },
  {
   "cell_type": "code",
   "execution_count": 79,
   "metadata": {},
   "outputs": [
    {
     "data": {
      "text/plain": [
       "[[1, 0, 3, 2, 4],\n",
       " [1, 3, 0, 2, 4],\n",
       " [1, 3, 2, 0, 4],\n",
       " [1, 3, 2, 4, 0],\n",
       " [1, 0, 3, 4, 2],\n",
       " [1, 3, 0, 4, 2],\n",
       " [1, 3, 4, 0, 2],\n",
       " [1, 3, 4, 2, 0]]"
      ]
     },
     "execution_count": 79,
     "metadata": {},
     "output_type": "execute_result"
    }
   ],
   "source": [
    "allSequences(root)"
   ]
  },
  {
   "cell_type": "code",
   "execution_count": null,
   "metadata": {
    "collapsed": true
   },
   "outputs": [],
   "source": []
  },
  {
   "cell_type": "code",
   "execution_count": null,
   "metadata": {
    "collapsed": true
   },
   "outputs": [],
   "source": []
  }
 ],
 "metadata": {
  "kernelspec": {
   "display_name": "Python 3",
   "language": "python",
   "name": "python3"
  },
  "language_info": {
   "codemirror_mode": {
    "name": "ipython",
    "version": 3
   },
   "file_extension": ".py",
   "mimetype": "text/x-python",
   "name": "python",
   "nbconvert_exporter": "python",
   "pygments_lexer": "ipython3",
   "version": "3.6.3"
  }
 },
 "nbformat": 4,
 "nbformat_minor": 2
}
