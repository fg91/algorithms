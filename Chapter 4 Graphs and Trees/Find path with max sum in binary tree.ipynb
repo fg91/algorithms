{
 "cells": [
  {
   "cell_type": "markdown",
   "metadata": {},
   "source": [
    "# Find path with maximum sum in binary tree"
   ]
  },
  {
   "cell_type": "markdown",
   "metadata": {},
   "source": [
    "Does not have to start at root or end at leaf node.\n",
    "\n",
    "Example:"
   ]
  },
  {
   "cell_type": "code",
   "execution_count": 1,
   "metadata": {
    "collapsed": true
   },
   "outputs": [],
   "source": [
    "#                 -100\n",
    "#                  / \\\n",
    "#                 9  20\n",
    "#                   /  \\\n",
    "#                 15   7\n",
    "#\n",
    "# Max sum is 42 (15+20+7)"
   ]
  },
  {
   "cell_type": "code",
   "execution_count": 2,
   "metadata": {
    "collapsed": true
   },
   "outputs": [],
   "source": [
    "class TreeNode(object):\n",
    "    def __init__(self, val):\n",
    "        self.left = None\n",
    "        self.right = None\n",
    "        self.val = val"
   ]
  },
  {
   "cell_type": "markdown",
   "metadata": {},
   "source": [
    "Idea:\n",
    "\n",
    "Pass a tuple of maximum length until this node up the call stack (starting from leaf nodes). First element represents the maximum length of a path that can be continued. Second element is length of longest path that can not be continued."
   ]
  },
  {
   "cell_type": "code",
   "execution_count": 3,
   "metadata": {
    "collapsed": true
   },
   "outputs": [],
   "source": [
    "def helper(node):\n",
    "    if node is None:\n",
    "        return (0,0)\n",
    "    \n",
    "    leftContinue, leftNotContinue = helper(node.left)\n",
    "    rightContinue, rightNotContinue=helper(node.right)\n",
    "    \n",
    "    return (\n",
    "        max(leftContinue, rightContinue, 0) + node.val, \n",
    "        max(leftContinue + node.val + rightContinue, \n",
    "            leftNotContinue, rightNotContinue, node.val)\n",
    "    )"
   ]
  },
  {
   "cell_type": "code",
   "execution_count": 4,
   "metadata": {
    "collapsed": true
   },
   "outputs": [],
   "source": [
    "def maxPathSum(root):\n",
    "    results = helper(root)\n",
    "    return max(results)"
   ]
  },
  {
   "cell_type": "code",
   "execution_count": 5,
   "metadata": {
    "collapsed": true
   },
   "outputs": [],
   "source": [
    "root = TreeNode(-100)\n",
    "root.left = TreeNode(9)\n",
    "root.right = TreeNode(20)\n",
    "root.right.right = TreeNode(7)\n",
    "root.right.left = TreeNode(15)"
   ]
  },
  {
   "cell_type": "code",
   "execution_count": 6,
   "metadata": {},
   "outputs": [
    {
     "data": {
      "text/plain": [
       "42"
      ]
     },
     "execution_count": 6,
     "metadata": {},
     "output_type": "execute_result"
    }
   ],
   "source": [
    "maxPathSum(root)"
   ]
  }
 ],
 "metadata": {
  "kernelspec": {
   "display_name": "Python 3",
   "language": "python",
   "name": "python3"
  },
  "language_info": {
   "codemirror_mode": {
    "name": "ipython",
    "version": 3
   },
   "file_extension": ".py",
   "mimetype": "text/x-python",
   "name": "python",
   "nbconvert_exporter": "python",
   "pygments_lexer": "ipython3",
   "version": "3.6.3"
  }
 },
 "nbformat": 4,
 "nbformat_minor": 2
}
