{
 "cells": [
  {
   "cell_type": "code",
   "execution_count": 1,
   "metadata": {
    "collapsed": true
   },
   "outputs": [],
   "source": [
    "class BinarySearchTreeNode:\n",
    "    def __init__(self, data):\n",
    "        self.data = data\n",
    "        self.left = None\n",
    "        self.right = None"
   ]
  },
  {
   "cell_type": "markdown",
   "metadata": {},
   "source": [
    "### Solution 1"
   ]
  },
  {
   "cell_type": "code",
   "execution_count": 2,
   "metadata": {
    "collapsed": true
   },
   "outputs": [],
   "source": [
    "#Cannot handle dublicate values propperly\n",
    "#         Valid BST                  Invalid BST\n",
    "#             20                         20\n",
    "#           /                              \\\n",
    "#         20                                20\n",
    "\n",
    "# With <= it considers the valid BST invalid\n",
    "# With < it considers the invalid BST valid"
   ]
  },
  {
   "cell_type": "code",
   "execution_count": 3,
   "metadata": {
    "collapsed": true
   },
   "outputs": [],
   "source": [
    "lastPrinted = None\n",
    "def checkBST(node):\n",
    "    global lastPrinted\n",
    "    if node is None:\n",
    "        return True\n",
    "    \n",
    "    # Check the left subtree\n",
    "    if not checkBST(node.left):\n",
    "        return False\n",
    "    \n",
    "    if lastPrinted is not None and node.data <= lastPrinted:\n",
    "        return False\n",
    "    lastPrinted = node.data\n",
    "    \n",
    "    # Check the right subtree\n",
    "    if not checkBST(node.right):\n",
    "        return False\n",
    "    \n",
    "    # Everything is good\n",
    "    return True"
   ]
  },
  {
   "cell_type": "code",
   "execution_count": 4,
   "metadata": {},
   "outputs": [
    {
     "data": {
      "text/plain": [
       "True"
      ]
     },
     "execution_count": 4,
     "metadata": {},
     "output_type": "execute_result"
    }
   ],
   "source": [
    "#Let us test it:\n",
    "#                50\n",
    "#  [-infty,50)          (50,infty]    \n",
    "#       10                    80\n",
    "#[-infty,10)   (10,50)    (50,80)     (80,infty]\n",
    "#  5           30         70            90 \n",
    "root = BinarySearchTreeNode(50)\n",
    "root.left = l1 = BinarySearchTreeNode(10)\n",
    "root.right = r1 = BinarySearchTreeNode(80)\n",
    "\n",
    "l1.left = BinarySearchTreeNode(5)\n",
    "l1.right = BinarySearchTreeNode(30)\n",
    "\n",
    "r1.left = BinarySearchTreeNode(70)\n",
    "r1.right = BinarySearchTreeNode(90)\n",
    "\n",
    "checkBST(root)"
   ]
  },
  {
   "cell_type": "code",
   "execution_count": 5,
   "metadata": {},
   "outputs": [
    {
     "data": {
      "text/plain": [
       "False"
      ]
     },
     "execution_count": 5,
     "metadata": {},
     "output_type": "execute_result"
    }
   ],
   "source": [
    "#Let us test it:\n",
    "#                50\n",
    "#  [-infty,50)          (50,infty]    \n",
    "#       10                    80\n",
    "#[-infty,10)   (10,50)    (50,80)     (80,infty]\n",
    "#  15!!   30         70            90 \n",
    "root = BinarySearchTreeNode(50)\n",
    "root.left = l1 = BinarySearchTreeNode(10)\n",
    "root.right = r1 = BinarySearchTreeNode(80)\n",
    "\n",
    "l1.left = BinarySearchTreeNode(15)\n",
    "l1.right = BinarySearchTreeNode(30)\n",
    "\n",
    "r1.left = BinarySearchTreeNode(70)\n",
    "r1.right = BinarySearchTreeNode(90)\n",
    "\n",
    "checkBST(root)"
   ]
  },
  {
   "cell_type": "markdown",
   "metadata": {},
   "source": [
    "## Solution 2\n",
    "https://www.youtube.com/watch?v=i_Q0v_Ct5lY\n",
    "Good hint for any recursive problems: Always check base cases. \n",
    "For example if you return a boolean, make sure you also have at least \n",
    "one return True and at least one return False statement somewhere.\n",
    "Because if by mistake you only had a return False, you obviously could \n",
    "never get True. \n",
    "\n",
    "Time complexity: O(n) where n is number of nodes.\n",
    "Space complexity: O(log n) because space complexity of tree traversal is O(h), if balanced, where h is hight of tree."
   ]
  },
  {
   "cell_type": "code",
   "execution_count": 6,
   "metadata": {
    "collapsed": true
   },
   "outputs": [],
   "source": [
    "import sys"
   ]
  },
  {
   "cell_type": "code",
   "execution_count": 7,
   "metadata": {
    "collapsed": true
   },
   "outputs": [],
   "source": [
    "def checkBST2(node):\n",
    "    return _checkBST2(node, -sys.maxsize - 1, sys.maxsize)\n",
    "    \n",
    "def _checkBST2(node, minvalue, maxvalue):\n",
    "    if node is None:\n",
    "        return True\n",
    "    if node.data <= minvalue or node.data > maxvalue:\n",
    "        return False\n",
    "    return _checkBST2(node.left, minvalue, node.data) and _checkBST2(node.right, node.data, maxvalue)"
   ]
  },
  {
   "cell_type": "code",
   "execution_count": 8,
   "metadata": {},
   "outputs": [
    {
     "data": {
      "text/plain": [
       "True"
      ]
     },
     "execution_count": 8,
     "metadata": {},
     "output_type": "execute_result"
    }
   ],
   "source": [
    "#Let us test it:\n",
    "#                50\n",
    "#  [-infty,50)          (50,infty]    \n",
    "#       10                    80\n",
    "#[-infty,10)   (10,50)    (50,80)     (80,infty]\n",
    "#  10           30         70            90 \n",
    "root = BinarySearchTreeNode(50)\n",
    "root.left = l1 = BinarySearchTreeNode(10)\n",
    "root.right = r1 = BinarySearchTreeNode(80)\n",
    "\n",
    "l1.left = BinarySearchTreeNode(10)\n",
    "l1.right = BinarySearchTreeNode(30)\n",
    "\n",
    "r1.left = BinarySearchTreeNode(70)\n",
    "r1.right = BinarySearchTreeNode(90)\n",
    "\n",
    "checkBST2(root)"
   ]
  },
  {
   "cell_type": "code",
   "execution_count": 9,
   "metadata": {},
   "outputs": [
    {
     "data": {
      "text/plain": [
       "False"
      ]
     },
     "execution_count": 9,
     "metadata": {},
     "output_type": "execute_result"
    }
   ],
   "source": [
    "#Let us test it:\n",
    "#                50\n",
    "#  [-infty,50)          (50,infty]    \n",
    "#       10                    80\n",
    "#[-infty,10)   (10,50)    (50,80)     (80,infty]\n",
    "#  10           30         70            80 !!!\n",
    "root = BinarySearchTreeNode(50)\n",
    "root.left = l1 = BinarySearchTreeNode(10)\n",
    "root.right = r1 = BinarySearchTreeNode(80)\n",
    "\n",
    "l1.left = BinarySearchTreeNode(10)\n",
    "l1.right = BinarySearchTreeNode(30)\n",
    "\n",
    "r1.left = BinarySearchTreeNode(70)\n",
    "r1.right = BinarySearchTreeNode(80) # Mistake!!\n",
    "\n",
    "checkBST2(root)"
   ]
  }
 ],
 "metadata": {
  "kernelspec": {
   "display_name": "Python 3",
   "language": "python",
   "name": "python3"
  },
  "language_info": {
   "codemirror_mode": {
    "name": "ipython",
    "version": 3
   },
   "file_extension": ".py",
   "mimetype": "text/x-python",
   "name": "python",
   "nbconvert_exporter": "python",
   "pygments_lexer": "ipython3",
   "version": "3.6.3"
  }
 },
 "nbformat": 4,
 "nbformat_minor": 2
}
