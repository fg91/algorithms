{
 "cells": [
  {
   "cell_type": "markdown",
   "metadata": {},
   "source": [
    "### Optimized\n",
    "\n",
    "Runtime O(N) where N is number of nodes because each node is visited just once doing constant work.\n",
    "Space complexity is O(logN) in a balanced tree and can grow to O(N) in an unbalanced tree."
   ]
  },
  {
   "cell_type": "code",
   "execution_count": 1,
   "metadata": {
    "collapsed": true
   },
   "outputs": [],
   "source": [
    "def paths_with_sum(node, target_sum):\n",
    "    path_count = {}\n",
    "    return _paths_with_sum(node, target_sum, 0, path_count)"
   ]
  },
  {
   "cell_type": "code",
   "execution_count": 2,
   "metadata": {},
   "outputs": [],
   "source": [
    "def _paths_with_sum(node, target_sum, running_sum, path_count):\n",
    "    if node is None:\n",
    "        return 0\n",
    "\n",
    "    # Count paths with sum ending at the current node\n",
    "    running_sum += node.value\n",
    "    result = running_sum - target_sum\n",
    "    total_paths = path_count.get(result, 0) # default 0 if not found\n",
    "    \n",
    "    # If running_sum equals target_sum, then one additional path starts at root\n",
    "    if running_sum == target_sum:\n",
    "        total_paths += 1\n",
    "    \n",
    "    # Increment path_count, recurse, then decrement path_count\n",
    "    increment_hash_table(path_count, running_sum, 1)\n",
    "    total_paths += _paths_with_sum(node.left, target_sum, running_sum, path_count)\n",
    "    total_paths += _paths_with_sum(node.right, target_sum, running_sum, path_count)\n",
    "    increment_hash_table(path_count, running_sum, -1)\n",
    "    \n",
    "    return total_paths\n",
    "    \n",
    "def increment_hash_table(hash_table, key, delta):\n",
    "    new_count = hash_table.get(key, 0) + delta\n",
    "    if new_count == 0:\n",
    "        hash_table.pop(key, None)\n",
    "    else:\n",
    "        hash_table[key] = new_count"
   ]
  },
  {
   "cell_type": "markdown",
   "metadata": {},
   "source": [
    "### Brute force:\n",
    "Runtime is O(N logN) in a balanced tree:\n",
    "At the root we traverse all N-1 nodes beneath it.\n",
    "At the second level we traverse all N-3 nodes beneath.\n",
    "\n",
    "Following this pattern, the total work is roughly:\n",
    "\n",
    "$(N-1) + (N-3) + (N-7) + ... (N-N)$\n",
    "\n",
    "since there are logN levels, this is approximately\n",
    "\n",
    "$N*\\log(N) - \\sum_{i=0}^{\\log(N)} 2^{i}$\n",
    "\n",
    "which is approximately (Geometric series):\n",
    "\n",
    "$N*\\log(N) - N$\n",
    "\n",
    "thus O(N logN)\n",
    "\n",
    "Unbalanced tree: Runtime can be much worse. Consider a tree that is a straight line. The total work is $(N-1) + (N-2) + (N-3) + ...$ which gives a Runtime of O(N^2)"
   ]
  },
  {
   "cell_type": "code",
   "execution_count": 3,
   "metadata": {
    "collapsed": true
   },
   "outputs": [],
   "source": [
    "class Node:\n",
    "    def __init__(self, value):\n",
    "        self.value = value\n",
    "        self.left = None\n",
    "        self.right = None\n",
    "        \n",
    "    def paths_with_sum(self, target_sum):\n",
    "        \n",
    "        total_paths = 0\n",
    "        # Count paths with target_sum starting from the root\n",
    "        total_paths += self.paths_with_sum_from_node(target_sum, 0) if self is not None else 0\n",
    "\n",
    "        # Try the nodes on the left and on the right\n",
    "        total_paths += self.left.paths_with_sum(target_sum) if self.left is not None else 0\n",
    "        total_paths += self.right.paths_with_sum(target_sum) if self.right is not None else 0\n",
    "        \n",
    "        return total_paths\n",
    "    \n",
    "    def paths_with_sum_from_node(self, target_sum, current_sum):\n",
    "\n",
    "        total_paths = 0\n",
    "        current_sum += self.value\n",
    "        \n",
    "        if current_sum == target_sum: # Found a path from the root\n",
    "            total_paths += 1\n",
    "            \n",
    "        total_paths += self.left.paths_with_sum_from_node(target_sum, current_sum) if self.left is not None else 0\n",
    "        total_paths += self.right.paths_with_sum_from_node(target_sum, current_sum) if self.right is not None else 0\n",
    "        \n",
    "        return total_paths"
   ]
  },
  {
   "cell_type": "markdown",
   "metadata": {},
   "source": [
    "Let's test both methods:"
   ]
  },
  {
   "cell_type": "code",
   "execution_count": 4,
   "metadata": {
    "collapsed": true
   },
   "outputs": [],
   "source": [
    "#               1\n",
    "#            /    \\\n",
    "#          3       7\n",
    "#        / \\     /  \\\n",
    "#       2   1   -9   3\n",
    "#      /\\  /\\   /\\   /\\\n",
    "#    1  4 2  0 4  1 -2 1\n",
    "#                       \\\n",
    "#                        7\n",
    "#                       /\n",
    "#                      -11\n",
    "\n",
    "root = Node(1)\n",
    "\n",
    "root.left = Node(3)\n",
    "root.right = Node(7)\n",
    "\n",
    "root.left.left = Node(2)\n",
    "root.left.right = Node(1)\n",
    "root.right.left = Node(-9)\n",
    "root.right.right = Node(3)\n",
    "\n",
    "root.left.left.left = Node(1)\n",
    "root.left.left.right = Node(4)\n",
    "root.left.right.left = Node(2)\n",
    "root.left.right.right = Node(4)\n",
    "root.right.left.left = Node(4)\n",
    "root.right.left.right = Node(1)\n",
    "root.right.right.left = Node(-2)\n",
    "root.right.right.right = Node(1)\n",
    "\n",
    "root.right.right.right.right = Node(7)\n",
    "root.right.right.right.right.left = Node(-11)"
   ]
  },
  {
   "cell_type": "code",
   "execution_count": 21,
   "metadata": {},
   "outputs": [
    {
     "data": {
      "text/plain": [
       "6"
      ]
     },
     "execution_count": 21,
     "metadata": {},
     "output_type": "execute_result"
    }
   ],
   "source": [
    "root.paths_with_sum(4)"
   ]
  },
  {
   "cell_type": "code",
   "execution_count": 22,
   "metadata": {},
   "outputs": [
    {
     "data": {
      "text/plain": [
       "6"
      ]
     },
     "execution_count": 22,
     "metadata": {},
     "output_type": "execute_result"
    }
   ],
   "source": [
    "paths_with_sum(root,4)"
   ]
  },
  {
   "cell_type": "code",
   "execution_count": null,
   "metadata": {
    "collapsed": true
   },
   "outputs": [],
   "source": []
  }
 ],
 "metadata": {
  "kernelspec": {
   "display_name": "Python 3",
   "language": "python",
   "name": "python3"
  },
  "language_info": {
   "codemirror_mode": {
    "name": "ipython",
    "version": 3
   },
   "file_extension": ".py",
   "mimetype": "text/x-python",
   "name": "python",
   "nbconvert_exporter": "python",
   "pygments_lexer": "ipython3",
   "version": "3.6.3"
  }
 },
 "nbformat": 4,
 "nbformat_minor": 2
}
