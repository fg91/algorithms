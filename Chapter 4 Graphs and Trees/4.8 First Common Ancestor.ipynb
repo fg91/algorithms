{
 "cells": [
  {
   "cell_type": "code",
   "execution_count": 1,
   "metadata": {
    "collapsed": true
   },
   "outputs": [],
   "source": [
    "class Node:\n",
    "    def __init__(self, data):\n",
    "        self.data = data\n",
    "        self.left = None\n",
    "        self.right = None"
   ]
  },
  {
   "cell_type": "code",
   "execution_count": 2,
   "metadata": {
    "collapsed": true
   },
   "outputs": [],
   "source": [
    "class Result:\n",
    "    def __init__(self, node, isAnc):\n",
    "        self.node = node\n",
    "        self.isAnc = isAnc"
   ]
  },
  {
   "cell_type": "code",
   "execution_count": 7,
   "metadata": {
    "collapsed": true
   },
   "outputs": [],
   "source": [
    "def commonAncestor(root, p, q):\n",
    "    r = _commonAncestorHelper(root, p, q)\n",
    "    if r.isAnc:\n",
    "        return r.node\n",
    "    else:\n",
    "        return None"
   ]
  },
  {
   "cell_type": "markdown",
   "metadata": {},
   "source": [
    "The following things can be returned:\n",
    "\n",
    "Returns Result(p, False) if subtree contains p and not q\n",
    "\n",
    "Returns Result(q, False) if subtree contains q and not p\n",
    "\n",
    "Returns Result(None, False) if neither p or q are found in subtree\n",
    "\n",
    "Returns Result(node, True) if node is the first common ancestor"
   ]
  },
  {
   "cell_type": "code",
   "execution_count": 18,
   "metadata": {
    "collapsed": true
   },
   "outputs": [],
   "source": [
    "def _commonAncestorHelper(root, p , q):\n",
    "    # If root does not exist\n",
    "    if root is None:\n",
    "        return Result(None, False)\n",
    "    \n",
    "    # If root is p and q\n",
    "    if root is p and root is q:\n",
    "        return Result(root, True)\n",
    "    \n",
    "    rleft = _commonAncestorHelper(root.left, p, q)\n",
    "    # If a true result has already been found, return it\n",
    "    if rleft.isAnc:\n",
    "        return rleft\n",
    "    rright = _commonAncestorHelper(root.right, p, q)\n",
    "    if rright.isAnc:\n",
    "        return rright\n",
    "    \n",
    "    # If in both subtrees one of p or q was found (isAnc = False), then root is the first common ancestor (isAnc = True)\n",
    "    if rleft.node is not None and rright.node is not None:\n",
    "        return Result(root, True)\n",
    "    elif root is p or root is q:\n",
    "        isAncestor = rleft.node is not None or rright.node is not None\n",
    "        return Result(root, isAncestor)\n",
    "    else:\n",
    "        return Result(rright.node if rright.node is not None else rleft.node, False)"
   ]
  },
  {
   "cell_type": "markdown",
   "metadata": {},
   "source": [
    "Let us test it:"
   ]
  },
  {
   "cell_type": "code",
   "execution_count": 19,
   "metadata": {
    "collapsed": true
   },
   "outputs": [],
   "source": [
    "#       3\n",
    "#      /\\\n",
    "#     1  5\n",
    "#        \\\n",
    "#         8\n",
    "root = Node(3)\n",
    "root.left = Node(1)\n",
    "root.right = Node(5)\n",
    "root.right.right = Node(8)"
   ]
  },
  {
   "cell_type": "code",
   "execution_count": 20,
   "metadata": {},
   "outputs": [
    {
     "data": {
      "text/plain": [
       "3"
      ]
     },
     "execution_count": 20,
     "metadata": {},
     "output_type": "execute_result"
    }
   ],
   "source": [
    "commonAncestor(root, root.left, root.right.right).data"
   ]
  },
  {
   "cell_type": "code",
   "execution_count": null,
   "metadata": {
    "collapsed": true
   },
   "outputs": [],
   "source": []
  }
 ],
 "metadata": {
  "kernelspec": {
   "display_name": "Python 3",
   "language": "python",
   "name": "python3"
  },
  "language_info": {
   "codemirror_mode": {
    "name": "ipython",
    "version": 3
   },
   "file_extension": ".py",
   "mimetype": "text/x-python",
   "name": "python",
   "nbconvert_exporter": "python",
   "pygments_lexer": "ipython3",
   "version": "3.6.3"
  }
 },
 "nbformat": 4,
 "nbformat_minor": 2
}
