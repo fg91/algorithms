{
 "cells": [
  {
   "cell_type": "code",
   "execution_count": 81,
   "metadata": {
    "collapsed": true
   },
   "outputs": [],
   "source": [
    "from random import randint"
   ]
  },
  {
   "cell_type": "code",
   "execution_count": 239,
   "metadata": {
    "collapsed": true
   },
   "outputs": [],
   "source": [
    "class BSTNode:\n",
    "    def __init__(self, value):\n",
    "        self.value = value\n",
    "        self.left = None\n",
    "        self.right = None\n",
    "        self.size = 1\n",
    "    \n",
    "    def insert(self, value):\n",
    "        if value <= self.value:\n",
    "            if self.left is None:\n",
    "                self.left = BSTNode(value)\n",
    "            else:\n",
    "                self.left.insert(value)\n",
    "        else:\n",
    "            if self.right is None:\n",
    "                self.right = BSTNode(value)\n",
    "            else:\n",
    "                self.right.insert(value)\n",
    "        self.size += 1\n",
    "        \n",
    "    def find(self, value):\n",
    "        if value == self.value:\n",
    "            return self\n",
    "        if value <= self.value:\n",
    "            if self.left is None:\n",
    "                return None\n",
    "            else:\n",
    "                return self.left.find(value)\n",
    "        else:\n",
    "            if self.right is None:\n",
    "                return None\n",
    "            else:\n",
    "                return self.right.find(value)\n",
    "            \n",
    "    def delete(self, value):\n",
    "        return self._delete(value, self)\n",
    "        \n",
    "    def _delete(self, value, parent):\n",
    "        if value < self.value:\n",
    "            if self.left is not None:\n",
    "                deleted = self.left._delete(value, self)\n",
    "                if deleted:\n",
    "                    self.size -= 1\n",
    "                return deleted\n",
    "            else:\n",
    "                return False\n",
    "        elif value > self.value:\n",
    "            if self.right is not None:\n",
    "                deleted = self.right._delete(value, self)\n",
    "                if deleted:\n",
    "                    self.size -= 1\n",
    "                return deleted\n",
    "            else:\n",
    "                return False\n",
    "        # If value == self.value\n",
    "        else:\n",
    "            # Case 1: Two children\n",
    "            if self.left is not None and self.right is not None:\n",
    "                self.value = self.right.min_value()\n",
    "                self.right._delete(self.value, self)\n",
    "                self.size -= 1\n",
    "            # Case 2: Only one child\n",
    "            elif parent.left is self:\n",
    "                parent.left = self.left if self.left is not None else self.right\n",
    "            elif parent.right is self:\n",
    "                parent.right = self.left if self.left is not None else self.right\n",
    "            return True\n",
    "                \n",
    "    def min_value(self):\n",
    "        if self.left is None:\n",
    "            return self.value\n",
    "        else:\n",
    "            return self.left.min_value()\n",
    "        \n",
    "    def random_node(self):\n",
    "        left_size = 0 if self.left is None else self.left.size\n",
    "        random = randint(0, self.size-1)\n",
    "        if random < left_size:\n",
    "            return self.left.random_node()\n",
    "        elif random == left_size:\n",
    "            return self.value\n",
    "        else:\n",
    "            return self.right.random_node()\n",
    "        "
   ]
  },
  {
   "cell_type": "markdown",
   "metadata": {},
   "source": [
    "Let us test it:"
   ]
  },
  {
   "cell_type": "code",
   "execution_count": 377,
   "metadata": {
    "collapsed": true
   },
   "outputs": [],
   "source": [
    "#          5\n",
    "#        /  \\\n",
    "#       2    12\n",
    "#     / \\   /  \\\n",
    "#   -4  3  9    21\n",
    "#              /  \\\n",
    "#             19   25\n",
    "\n",
    "root = BSTNode(5)\n",
    "root.insert(2)\n",
    "root.insert(-4)\n",
    "root.insert(3)\n",
    "\n",
    "root.insert(12)\n",
    "root.insert(9)\n",
    "root.insert(21)\n",
    "root.insert(19)\n",
    "root.insert(25)"
   ]
  },
  {
   "cell_type": "code",
   "execution_count": 378,
   "metadata": {},
   "outputs": [
    {
     "data": {
      "text/plain": [
       "-4"
      ]
     },
     "execution_count": 378,
     "metadata": {},
     "output_type": "execute_result"
    }
   ],
   "source": [
    "root.random_node()"
   ]
  },
  {
   "cell_type": "code",
   "execution_count": 379,
   "metadata": {},
   "outputs": [
    {
     "data": {
      "text/plain": [
       "9"
      ]
     },
     "execution_count": 379,
     "metadata": {},
     "output_type": "execute_result"
    }
   ],
   "source": [
    "root.size"
   ]
  },
  {
   "cell_type": "code",
   "execution_count": 380,
   "metadata": {},
   "outputs": [
    {
     "data": {
      "text/plain": [
       "5"
      ]
     },
     "execution_count": 380,
     "metadata": {},
     "output_type": "execute_result"
    }
   ],
   "source": [
    "root.right.size"
   ]
  },
  {
   "cell_type": "code",
   "execution_count": 381,
   "metadata": {},
   "outputs": [
    {
     "data": {
      "text/plain": [
       "True"
      ]
     },
     "execution_count": 381,
     "metadata": {},
     "output_type": "execute_result"
    }
   ],
   "source": [
    "root.delete(12)"
   ]
  },
  {
   "cell_type": "code",
   "execution_count": 382,
   "metadata": {},
   "outputs": [
    {
     "data": {
      "text/plain": [
       "8"
      ]
     },
     "execution_count": 382,
     "metadata": {},
     "output_type": "execute_result"
    }
   ],
   "source": [
    "root.size"
   ]
  },
  {
   "cell_type": "code",
   "execution_count": 383,
   "metadata": {},
   "outputs": [
    {
     "data": {
      "text/plain": [
       "19"
      ]
     },
     "execution_count": 383,
     "metadata": {},
     "output_type": "execute_result"
    }
   ],
   "source": [
    "root.right.value"
   ]
  },
  {
   "cell_type": "code",
   "execution_count": 384,
   "metadata": {},
   "outputs": [
    {
     "data": {
      "text/plain": [
       "4"
      ]
     },
     "execution_count": 384,
     "metadata": {},
     "output_type": "execute_result"
    }
   ],
   "source": [
    "root.right.size"
   ]
  }
 ],
 "metadata": {
  "kernelspec": {
   "display_name": "Python 3",
   "language": "python",
   "name": "python3"
  },
  "language_info": {
   "codemirror_mode": {
    "name": "ipython",
    "version": 3
   },
   "file_extension": ".py",
   "mimetype": "text/x-python",
   "name": "python",
   "nbconvert_exporter": "python",
   "pygments_lexer": "ipython3",
   "version": "3.6.3"
  }
 },
 "nbformat": 4,
 "nbformat_minor": 2
}
