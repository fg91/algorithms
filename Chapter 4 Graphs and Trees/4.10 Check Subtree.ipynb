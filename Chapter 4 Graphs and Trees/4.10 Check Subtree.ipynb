{
 "cells": [
  {
   "cell_type": "code",
   "execution_count": 173,
   "metadata": {
    "collapsed": true
   },
   "outputs": [],
   "source": [
    "class Node:\n",
    "    def __init__(self, data):\n",
    "        self.data = data\n",
    "        self.left = None\n",
    "        self.right = None"
   ]
  },
  {
   "cell_type": "markdown",
   "metadata": {},
   "source": [
    "### Simple Approach"
   ]
  },
  {
   "cell_type": "code",
   "execution_count": 174,
   "metadata": {
    "collapsed": true
   },
   "outputs": [],
   "source": [
    "# Strings are immutable in Python so use this instead\n",
    "class PreOrderSequence:\n",
    "    def __init__(self):\n",
    "        self.seq = \"\""
   ]
  },
  {
   "cell_type": "code",
   "execution_count": 175,
   "metadata": {
    "collapsed": true
   },
   "outputs": [],
   "source": [
    "def containsTree(r1, r2):\n",
    "    s1 = PreOrderSequence()\n",
    "    s2 = PreOrderSequence()\n",
    "    \n",
    "    getBuildOrder(r1, s1)\n",
    "    getBuildOrder(r2, s2)\n",
    "        \n",
    "    return s1.seq.find(s2.seq) != -1"
   ]
  },
  {
   "cell_type": "code",
   "execution_count": 176,
   "metadata": {
    "collapsed": true
   },
   "outputs": [],
   "source": [
    "def getBuildOrder(r, s):\n",
    "    if r is None:\n",
    "        s.seq += \"X\"\n",
    "        return\n",
    "    s.seq += str(r.data)\n",
    "    getBuildOrder(r.left, s)\n",
    "    getBuildOrder(r.right, s)"
   ]
  },
  {
   "cell_type": "markdown",
   "metadata": {},
   "source": [
    "Let us test this algorithm:"
   ]
  },
  {
   "cell_type": "code",
   "execution_count": 177,
   "metadata": {
    "collapsed": true
   },
   "outputs": [],
   "source": [
    "#            5\n",
    "#          /   \\\n",
    "#        0      0\n",
    "#       / \\    / \\\n",
    "#      1   2  1   2\n",
    "#     /\n",
    "#    3\n",
    "\n",
    "\n",
    "#    0\n",
    "#  /  \\\n",
    "# 1    2\n",
    "\n",
    "T1 = Node(5)\n",
    "T1.left = Node(0)\n",
    "T1.left.left = Node(1)\n",
    "T1.left.right = Node(2)\n",
    "T1.left.left.left = Node(3)\n",
    "T1.right = Node(0)\n",
    "T1.right.left = Node(1)\n",
    "T1.right.right = Node(2)\n",
    "\n",
    "T2 = Node(0)\n",
    "T2.left = Node(1)\n",
    "T2.right = Node(2)\n",
    "\n",
    "# The pre order traversal gives:\n",
    "# 5013XXX2XX01XX2XX\n",
    "# 01XX2XX"
   ]
  },
  {
   "cell_type": "code",
   "execution_count": 178,
   "metadata": {},
   "outputs": [
    {
     "data": {
      "text/plain": [
       "True"
      ]
     },
     "execution_count": 178,
     "metadata": {},
     "output_type": "execute_result"
    }
   ],
   "source": [
    "containsTree(T1, T2)"
   ]
  },
  {
   "cell_type": "markdown",
   "metadata": {},
   "source": [
    "### Alternative Approach"
   ]
  },
  {
   "cell_type": "code",
   "execution_count": 179,
   "metadata": {},
   "outputs": [],
   "source": [
    "def containsTree(r1, r2):\n",
    "    if r2 is None:\n",
    "        return True # The empty tree is always a subtree\n",
    "    else:\n",
    "        return checkSubtree(r1,r2)\n",
    "    \n",
    "def checkSubtree(r1, r2):\n",
    "    if r1 is None:\n",
    "        return False # Big tree empty, still no subtree found\n",
    "    if r1.data == r2.data and matchSubtree(r1, r2):\n",
    "        return True\n",
    "    return checkSubtree(r1.left, r2) or checkSubtree(r1.right, r2)\n",
    "\n",
    "def matchSubtree(r1, r2):\n",
    "    if r1 is None and r2 is None:\n",
    "        return True # Nothing else in subtree\n",
    "    elif r1 is None and r2 is not None or r2 is None and r1 is not None:\n",
    "        return False # Trees don't match\n",
    "    elif r1.data is not r2.data:\n",
    "        return False # Data does not match\n",
    "    else:\n",
    "        return matchSubtree(r1.left, r2.left) and matchSubtree(r1.right, r2.right)"
   ]
  },
  {
   "cell_type": "markdown",
   "metadata": {},
   "source": [
    "Let us build two trees to test our algorithm:"
   ]
  },
  {
   "cell_type": "code",
   "execution_count": 180,
   "metadata": {
    "collapsed": true
   },
   "outputs": [],
   "source": [
    "#            5\n",
    "#          /   \\\n",
    "#        0      0\n",
    "#       / \\    / \\\n",
    "#      1   2  1   2\n",
    "#     /\n",
    "#    3\n",
    "\n",
    "\n",
    "#    0\n",
    "#  /  \\\n",
    "# 1    2\n",
    "\n",
    "T1 = Node(5)\n",
    "T1.left = Node(0)\n",
    "T1.left.left = Node(1)\n",
    "T1.left.right = Node(2)\n",
    "T1.left.left.left = Node(3)\n",
    "T1.right = Node(0)\n",
    "T1.right.left = Node(1)\n",
    "T1.right.right = Node(2)\n",
    "\n",
    "T2 = Node(0)\n",
    "T2.left = Node(1)\n",
    "T2.right = Node(2)"
   ]
  },
  {
   "cell_type": "code",
   "execution_count": 181,
   "metadata": {},
   "outputs": [
    {
     "data": {
      "text/plain": [
       "True"
      ]
     },
     "execution_count": 181,
     "metadata": {},
     "output_type": "execute_result"
    }
   ],
   "source": [
    "containsTree(T1, T2)"
   ]
  }
 ],
 "metadata": {
  "kernelspec": {
   "display_name": "Python 3",
   "language": "python",
   "name": "python3"
  },
  "language_info": {
   "codemirror_mode": {
    "name": "ipython",
    "version": 3
   },
   "file_extension": ".py",
   "mimetype": "text/x-python",
   "name": "python",
   "nbconvert_exporter": "python",
   "pygments_lexer": "ipython3",
   "version": "3.6.3"
  }
 },
 "nbformat": 4,
 "nbformat_minor": 2
}
