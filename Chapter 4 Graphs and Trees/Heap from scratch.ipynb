{
 "cells": [
  {
   "cell_type": "code",
   "execution_count": 27,
   "metadata": {
    "collapsed": true
   },
   "outputs": [],
   "source": [
    "import numpy as np"
   ]
  },
  {
   "cell_type": "code",
   "execution_count": 44,
   "metadata": {
    "collapsed": true
   },
   "outputs": [],
   "source": [
    "class MinIntHeap:\n",
    "    def __init__(self):\n",
    "        self.items = []\n",
    "        self.currentSize = 0\n",
    "        \n",
    "    def getLeftChildIndex(self, parentIndex):\n",
    "        return 2 * parentIndex + 1;\n",
    "    def getRightChildIndex(self, parentIndex):\n",
    "        return 2 * parentIndex + 2;\n",
    "    def getParentIndex(self, childIndex):\n",
    "        return (childIndex - 1) // 2\n",
    "    \n",
    "    def hasLeftChild(self, index):\n",
    "        return self.getLeftChildIndex(index) < len(self.items)\n",
    "    def hasRightChild(self, index):\n",
    "        return self.getRightChildIndex(index) < len(self.items)\n",
    "    def hasParent(self, index):\n",
    "        return self.getParentIndex(index) >= 0\n",
    "    \n",
    "    def leftChild(self, index):\n",
    "        return self.items[self.getLeftChildIndex(index)]\n",
    "    def rightChild(self, index):\n",
    "        return self.items[self.getRightChildIndex(index)]\n",
    "    def parent(self, index):\n",
    "        return self.items[self.getParentIndex(index)]\n",
    "    \n",
    "    def swap(self, indexOne, indexTwo):\n",
    "        temp = self.items[indexOne]\n",
    "        self.items[indexOne] = self.items[indexTwo]\n",
    "        self.items[indexTwo] = temp\n",
    "        \n",
    "    def peek(self):\n",
    "        if self.currentSize is 0:\n",
    "            raise Exception(\"Heap is empty\")\n",
    "        return self.items[0]\n",
    "    \n",
    "    def poll(self):\n",
    "        if self.currentSize is 0:\n",
    "            raise Exception(\"Heap is empty\")\n",
    "        item = self.items[0]\n",
    "        self.items[0] = self.items.pop()\n",
    "        self.currentSize -= 1\n",
    "        self.heapifyDown()\n",
    "        return item\n",
    "    \n",
    "    def add(self, item):\n",
    "        self.items.append(item)\n",
    "        self.currentSize += 1\n",
    "        self.heapifyUp()\n",
    "        \n",
    "    def heapifyUp(self):\n",
    "        index = self.currentSize - 1\n",
    "        while self.hasParent(index) and self.parent(index) > self.items[index]:\n",
    "            self.swap(self.getParentIndex(index), index)\n",
    "            index = self.getParentIndex(index)\n",
    "            \n",
    "    def heapifyDown(self):\n",
    "        index = 0\n",
    "        while self.hasLeftChild(index):\n",
    "            # Find out whether the left or right child is smaller\n",
    "            smallerChildIndex = self.getLeftChildIndex(index)\n",
    "            if self.hasRightChild(index) and self.rightChild(index) < self.leftChild(index):\n",
    "                smallerChildIndex = self.getRightChildIndex(index)\n",
    "            \n",
    "            # If value at index is smaller than value at smallerChildIndex, then everything is perfect\n",
    "            if self.items[index] < self.items[smallerChildIndex]:\n",
    "                break\n",
    "            \n",
    "            # If still out of order\n",
    "            else:\n",
    "                self.swap(index, smallerChildIndex)\n",
    "                index = smallerChildIndex\n",
    "    \n",
    "    def printHeap(self):\n",
    "        print(self.items)"
   ]
  },
  {
   "cell_type": "code",
   "execution_count": 48,
   "metadata": {
    "collapsed": true
   },
   "outputs": [],
   "source": [
    "test = MinIntHeap()"
   ]
  },
  {
   "cell_type": "code",
   "execution_count": 49,
   "metadata": {
    "collapsed": true
   },
   "outputs": [],
   "source": [
    "test.add(10)\n",
    "test.add(15)\n",
    "test.add(20)\n",
    "#      10\n",
    "#   15   20"
   ]
  },
  {
   "cell_type": "code",
   "execution_count": 50,
   "metadata": {},
   "outputs": [
    {
     "name": "stdout",
     "output_type": "stream",
     "text": [
      "[10, 15, 20]\n"
     ]
    }
   ],
   "source": [
    "test.printHeap()"
   ]
  },
  {
   "cell_type": "code",
   "execution_count": 51,
   "metadata": {},
   "outputs": [
    {
     "name": "stdout",
     "output_type": "stream",
     "text": [
      "[10, 15, 20, 17]\n"
     ]
    }
   ],
   "source": [
    "test.add(17)\n",
    "#       10\n",
    "#    15   20\n",
    "#  17\n",
    "test.printHeap()"
   ]
  },
  {
   "cell_type": "code",
   "execution_count": 52,
   "metadata": {},
   "outputs": [
    {
     "name": "stdout",
     "output_type": "stream",
     "text": [
      "[10, 15, 20, 17, 25]\n"
     ]
    }
   ],
   "source": [
    "test.add(25)\n",
    "#       10\n",
    "#    15   20\n",
    "#  17 25\n",
    "test.printHeap()"
   ]
  },
  {
   "cell_type": "code",
   "execution_count": 53,
   "metadata": {},
   "outputs": [
    {
     "name": "stdout",
     "output_type": "stream",
     "text": [
      "[10, 15, 20, 17, 25, 21]\n"
     ]
    }
   ],
   "source": [
    "test.add(21)\n",
    "#       10\n",
    "#    15    20\n",
    "#  17 25  21\n",
    "test.printHeap()"
   ]
  },
  {
   "cell_type": "code",
   "execution_count": 54,
   "metadata": {},
   "outputs": [
    {
     "name": "stdout",
     "output_type": "stream",
     "text": [
      "[10, 15, 11, 17, 25, 21, 20]\n"
     ]
    }
   ],
   "source": [
    "test.add(11) # Adds the 11 at the end of the heap and then moves it up because 11 < 20\n",
    "#       10\n",
    "#    15    11\n",
    "#  17 25  21  20\n",
    "test.printHeap()"
   ]
  },
  {
   "cell_type": "code",
   "execution_count": 55,
   "metadata": {},
   "outputs": [
    {
     "name": "stdout",
     "output_type": "stream",
     "text": [
      "[4, 10, 11, 15, 25, 21, 20, 17]\n"
     ]
    }
   ],
   "source": [
    "test.add(4) # Adds the 4 as leftChld of 17 and moves it up to the top because its smaller than 10\n",
    "#       4\n",
    "#    10    11\n",
    "#  15 25  21  20\n",
    "# 17\n",
    "test.printHeap()"
   ]
  },
  {
   "cell_type": "code",
   "execution_count": 56,
   "metadata": {},
   "outputs": [
    {
     "data": {
      "text/plain": [
       "4"
      ]
     },
     "execution_count": 56,
     "metadata": {},
     "output_type": "execute_result"
    }
   ],
   "source": [
    "test.peek()"
   ]
  },
  {
   "cell_type": "code",
   "execution_count": 57,
   "metadata": {},
   "outputs": [
    {
     "name": "stdout",
     "output_type": "stream",
     "text": [
      "[10, 15, 11, 17, 25, 21, 20]\n"
     ]
    }
   ],
   "source": [
    "test.poll()\n",
    "#       10\n",
    "#    15    11\n",
    "#  17 25  21  20\n",
    "test.printHeap()"
   ]
  },
  {
   "cell_type": "code",
   "execution_count": 58,
   "metadata": {},
   "outputs": [
    {
     "data": {
      "text/plain": [
       "10"
      ]
     },
     "execution_count": 58,
     "metadata": {},
     "output_type": "execute_result"
    }
   ],
   "source": [
    "test.peek()"
   ]
  },
  {
   "cell_type": "markdown",
   "metadata": {},
   "source": [
    "# Works as it should :)"
   ]
  },
  {
   "cell_type": "code",
   "execution_count": null,
   "metadata": {
    "collapsed": true
   },
   "outputs": [],
   "source": []
  }
 ],
 "metadata": {
  "kernelspec": {
   "display_name": "Python 3",
   "language": "python",
   "name": "python3"
  },
  "language_info": {
   "codemirror_mode": {
    "name": "ipython",
    "version": 3
   },
   "file_extension": ".py",
   "mimetype": "text/x-python",
   "name": "python",
   "nbconvert_exporter": "python",
   "pygments_lexer": "ipython3",
   "version": "3.6.3"
  }
 },
 "nbformat": 4,
 "nbformat_minor": 2
}
