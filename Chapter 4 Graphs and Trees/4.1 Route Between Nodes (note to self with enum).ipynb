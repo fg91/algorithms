{
 "cells": [
  {
   "cell_type": "markdown",
   "metadata": {},
   "source": [
    "Depth-first search and Breadth-first search can do this.\n",
    "\n",
    "Tradeoffs:\n",
    "\n",
    "DFS:\n",
    "\n",
    "+a bit simpler to implement since it can be done with simple recursion\n",
    "\n",
    "-may traverse one adjacent node very deeply before ever going onto immediate neighbours\n",
    "\n",
    "BFS:\n",
    "\n",
    "+useful for finding the shortest path"
   ]
  },
  {
   "cell_type": "code",
   "execution_count": 1,
   "metadata": {
    "collapsed": true
   },
   "outputs": [],
   "source": [
    "from enum import Enum"
   ]
  },
  {
   "cell_type": "code",
   "execution_count": 2,
   "metadata": {
    "collapsed": true
   },
   "outputs": [],
   "source": [
    "class State(Enum):\n",
    "    unvisited = 0\n",
    "    visited = 1\n",
    "    visiting = 2"
   ]
  },
  {
   "cell_type": "code",
   "execution_count": 36,
   "metadata": {
    "collapsed": true
   },
   "outputs": [],
   "source": [
    "class Graph:\n",
    "    def __init__(self):\n",
    "        self.nodeLookup = {}\n",
    "    \n",
    "    class Node:\n",
    "        def __init__(self, id):\n",
    "            self.id = id\n",
    "            self.neighbours = []\n",
    "            self.state = None\n",
    "            \n",
    "    def getNode(self, id):\n",
    "        return self.nodeLookup.get(id)\n",
    "    \n",
    "    def getNodes(self):\n",
    "        return [node for node in self.nodeLookup.values()]\n",
    "    \n",
    "    def addNode(self, id):\n",
    "        if self.nodeLookup.get(id) is not None:\n",
    "            raise Exception(\"Id already exists\")\n",
    "        newNode = self.Node(id)\n",
    "        self.nodeLookup[id] = newNode\n",
    "    \n",
    "    def addChildNode(self, parentId, id):\n",
    "        newNode = self.addNode(id)\n",
    "        self.addEdge(parentId, id)\n",
    "    \n",
    "    def addEdge(self, sourceId, destinationId):\n",
    "        # We should check here, that the overloaded ids exist\n",
    "        s = self.getNode(sourceId)\n",
    "        d = self.getNode(destinationId)\n",
    "        # Directed graph\n",
    "        s.neighbours.append(d)"
   ]
  },
  {
   "cell_type": "code",
   "execution_count": 84,
   "metadata": {},
   "outputs": [],
   "source": [
    "def searchGraph(g, startNode, endNode):\n",
    "    if startNode is endNode:\n",
    "        return True\n",
    "    \n",
    "    queue = []\n",
    "    \n",
    "    # Set state of all nodes to unvisited\n",
    "    for node in g.getNodes():\n",
    "        node.state = State.unvisited\n",
    "        \n",
    "    queue.append(startNode)\n",
    "    startNode.state = State.visiting\n",
    "    \n",
    "    while len(queue) > 0:\n",
    "        u = queue.pop(0)\n",
    "        if u is not None:\n",
    "            for neighbour in u.neighbours:\n",
    "                if neighbour.state is State.unvisited:\n",
    "                    if neighbour is endNode:\n",
    "                        return True\n",
    "                    queue.append(neighbour)\n",
    "                    neighbour.state = State.visiting\n",
    "            u.state = State.visited\n",
    "    \n",
    "    return False"
   ]
  },
  {
   "cell_type": "markdown",
   "metadata": {},
   "source": [
    "Let us briefly test it:"
   ]
  },
  {
   "cell_type": "code",
   "execution_count": 99,
   "metadata": {
    "collapsed": true
   },
   "outputs": [],
   "source": [
    "# 2 <- 1 -> 3 -> 6     7->8\n",
    "#        </ \\>\n",
    "#       0   4\n",
    "#       <\\  </\n",
    "#        5\n",
    "\n",
    "g = Graph()\n",
    "g.addNode(1)\n",
    "g.addChildNode(1,2)\n",
    "g.addChildNode(1,3)\n",
    "g.addChildNode(3,4)\n",
    "g.addChildNode(4,5)\n",
    "g.addChildNode(5,0)\n",
    "g.addEdge(3,0)\n",
    "g.addChildNode(3,6)\n",
    "g.addNode(7)\n",
    "g.addChildNode(7,8)"
   ]
  },
  {
   "cell_type": "code",
   "execution_count": 100,
   "metadata": {},
   "outputs": [
    {
     "data": {
      "text/plain": [
       "True"
      ]
     },
     "execution_count": 100,
     "metadata": {},
     "output_type": "execute_result"
    }
   ],
   "source": [
    "searchGraph(g, g.getNode(1), g.getNode(6))"
   ]
  },
  {
   "cell_type": "code",
   "execution_count": 101,
   "metadata": {},
   "outputs": [
    {
     "data": {
      "text/plain": [
       "True"
      ]
     },
     "execution_count": 101,
     "metadata": {},
     "output_type": "execute_result"
    }
   ],
   "source": [
    "searchGraph(g, g.getNode(1), g.getNode(1))"
   ]
  },
  {
   "cell_type": "code",
   "execution_count": 102,
   "metadata": {},
   "outputs": [
    {
     "data": {
      "text/plain": [
       "True"
      ]
     },
     "execution_count": 102,
     "metadata": {},
     "output_type": "execute_result"
    }
   ],
   "source": [
    "searchGraph(g, g.getNode(1), g.getNode(0))"
   ]
  },
  {
   "cell_type": "code",
   "execution_count": 103,
   "metadata": {},
   "outputs": [
    {
     "data": {
      "text/plain": [
       "False"
      ]
     },
     "execution_count": 103,
     "metadata": {},
     "output_type": "execute_result"
    }
   ],
   "source": [
    "searchGraph(g, g.getNode(2), g.getNode(3))"
   ]
  },
  {
   "cell_type": "code",
   "execution_count": 104,
   "metadata": {},
   "outputs": [
    {
     "data": {
      "text/plain": [
       "True"
      ]
     },
     "execution_count": 104,
     "metadata": {},
     "output_type": "execute_result"
    }
   ],
   "source": [
    "searchGraph(g, g.getNode(7), g.getNode(8))"
   ]
  },
  {
   "cell_type": "code",
   "execution_count": 105,
   "metadata": {},
   "outputs": [
    {
     "data": {
      "text/plain": [
       "False"
      ]
     },
     "execution_count": 105,
     "metadata": {},
     "output_type": "execute_result"
    }
   ],
   "source": [
    "searchGraph(g, g.getNode(8), g.getNode(7))"
   ]
  },
  {
   "cell_type": "code",
   "execution_count": 98,
   "metadata": {},
   "outputs": [
    {
     "data": {
      "text/plain": [
       "False"
      ]
     },
     "execution_count": 98,
     "metadata": {},
     "output_type": "execute_result"
    }
   ],
   "source": [
    "searchGraph(g, g.getNode(0), g.getNode(3))"
   ]
  },
  {
   "cell_type": "code",
   "execution_count": null,
   "metadata": {
    "collapsed": true
   },
   "outputs": [],
   "source": []
  }
 ],
 "metadata": {
  "kernelspec": {
   "display_name": "Python 3",
   "language": "python",
   "name": "python3"
  },
  "language_info": {
   "codemirror_mode": {
    "name": "ipython",
    "version": 3
   },
   "file_extension": ".py",
   "mimetype": "text/x-python",
   "name": "python",
   "nbconvert_exporter": "python",
   "pygments_lexer": "ipython3",
   "version": "3.6.3"
  }
 },
 "nbformat": 4,
 "nbformat_minor": 2
}
