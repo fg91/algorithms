{
 "cells": [
  {
   "cell_type": "markdown",
   "metadata": {},
   "source": [
    "Time complexity O(n) where n is number of nodes\n",
    "Space complexity O(h) where h is height of tree\n",
    "\n",
    "Once the height difference between left and right is more than 1, None is passed back up as an error code. As long as no error occurs, max(leftHeight, rightHeight) + 1 is returned."
   ]
  },
  {
   "cell_type": "code",
   "execution_count": 62,
   "metadata": {
    "collapsed": true
   },
   "outputs": [],
   "source": [
    "class TreeNode:\n",
    "    def __init__(self, data):\n",
    "        self.data = data\n",
    "        self.left = None\n",
    "        self.right = None\n",
    "        \n",
    "    def checkBalanced(self):\n",
    "        return self._checkBalanced() is not None\n",
    "        \n",
    "    def _checkBalanced(self):\n",
    "        #Calculate the height of the left subtree\n",
    "        if self.left is None:\n",
    "            leftHeight = -1\n",
    "        else:\n",
    "            leftHeight = self.left._checkBalanced()\n",
    "        # Calculate the height of the right subtree\n",
    "        if self.right is None:\n",
    "            rightHeight = -1\n",
    "        else:\n",
    "            rightHeight = self.right._checkBalanced()\n",
    "        \n",
    "        # If an error occured, pass the error up!\n",
    "        if rightHeight is None or leftHeight is None:\n",
    "            return None\n",
    "        \n",
    "        heightDifference = rightHeight - leftHeight\n",
    "        \n",
    "        # If the Difference is larger than 1, return the error code, otherwise the max height + 1\n",
    "        if abs(heightDifference) > 1:\n",
    "            return None\n",
    "        else:\n",
    "            return max(leftHeight, rightHeight) + 1"
   ]
  },
  {
   "cell_type": "markdown",
   "metadata": {},
   "source": [
    "Let's test it:"
   ]
  },
  {
   "cell_type": "code",
   "execution_count": 68,
   "metadata": {},
   "outputs": [
    {
     "data": {
      "text/plain": [
       "True"
      ]
     },
     "execution_count": 68,
     "metadata": {},
     "output_type": "execute_result"
    }
   ],
   "source": [
    "#     1\n",
    "root = TreeNode(1)\n",
    "root.checkBalanced()"
   ]
  },
  {
   "cell_type": "code",
   "execution_count": 69,
   "metadata": {},
   "outputs": [
    {
     "data": {
      "text/plain": [
       "True"
      ]
     },
     "execution_count": 69,
     "metadata": {},
     "output_type": "execute_result"
    }
   ],
   "source": [
    "#      1\n",
    "#       \\\n",
    "#        1\n",
    "root = TreeNode(1)\n",
    "root.right = TreeNode(1)\n",
    "root.checkBalanced()"
   ]
  },
  {
   "cell_type": "code",
   "execution_count": 70,
   "metadata": {},
   "outputs": [
    {
     "data": {
      "text/plain": [
       "False"
      ]
     },
     "execution_count": 70,
     "metadata": {},
     "output_type": "execute_result"
    }
   ],
   "source": [
    "#      1\n",
    "#       \\\n",
    "#        1\n",
    "#         \\\n",
    "#          1\n",
    "root = TreeNode(1)\n",
    "root.right = TreeNode(1)\n",
    "root.right.right = TreeNode(1)\n",
    "root.checkBalanced()"
   ]
  },
  {
   "cell_type": "code",
   "execution_count": 71,
   "metadata": {},
   "outputs": [
    {
     "data": {
      "text/plain": [
       "False"
      ]
     },
     "execution_count": 71,
     "metadata": {},
     "output_type": "execute_result"
    }
   ],
   "source": [
    "#      1\n",
    "#       \\\n",
    "#        1\n",
    "#       / \\\n",
    "#      1   1\n",
    "root = TreeNode(1)\n",
    "root.right = TreeNode(1)\n",
    "root.right.right = TreeNode(1)\n",
    "root.right.left = TreeNode(1)\n",
    "root.checkBalanced()"
   ]
  },
  {
   "cell_type": "code",
   "execution_count": 72,
   "metadata": {},
   "outputs": [
    {
     "data": {
      "text/plain": [
       "True"
      ]
     },
     "execution_count": 72,
     "metadata": {},
     "output_type": "execute_result"
    }
   ],
   "source": [
    "#      1\n",
    "#     / \\\n",
    "#    1   1\n",
    "#       / \\\n",
    "#      1   1\n",
    "root = TreeNode(1)\n",
    "root.left = TreeNode(1)\n",
    "root.right = TreeNode(1)\n",
    "root.right.right = TreeNode(1)\n",
    "root.right.left = TreeNode(1)\n",
    "root.checkBalanced()"
   ]
  },
  {
   "cell_type": "code",
   "execution_count": null,
   "metadata": {
    "collapsed": true
   },
   "outputs": [],
   "source": []
  }
 ],
 "metadata": {
  "kernelspec": {
   "display_name": "Python 3",
   "language": "python",
   "name": "python3"
  },
  "language_info": {
   "codemirror_mode": {
    "name": "ipython",
    "version": 3
   },
   "file_extension": ".py",
   "mimetype": "text/x-python",
   "name": "python",
   "nbconvert_exporter": "python",
   "pygments_lexer": "ipython3",
   "version": "3.6.3"
  }
 },
 "nbformat": 4,
 "nbformat_minor": 2
}
