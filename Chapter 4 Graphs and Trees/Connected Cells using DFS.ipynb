{
 "cells": [
  {
   "cell_type": "markdown",
   "metadata": {},
   "source": [
    "https://www.youtube.com/watch?v=R4Nh-EgWjyQ"
   ]
  },
  {
   "cell_type": "code",
   "execution_count": 120,
   "metadata": {},
   "outputs": [],
   "source": [
    "class ConnectedCells:\n",
    "    \n",
    "    def getBiggestRegion(self, matrix):\n",
    "        maxRegion = 0\n",
    "        # Find a cell with a 1 and start DFS (BFS would work just as well btw)\n",
    "        for row in range(len(matrix)):\n",
    "            for column in range(len(matrix[0])):\n",
    "                if matrix[row][column] == 1:\n",
    "                    size = self.getRegionSize(matrix, row, column)\n",
    "                    maxRegion = max(maxRegion, size)\n",
    "        return maxRegion\n",
    "    \n",
    "    def getRegionSize(self, matrix, row, column):\n",
    "        # Check whether outside of boundaries\n",
    "        if row < 0 or column < 0 or row >= len(matrix) or column >= len(matrix[0]):\n",
    "            return 0\n",
    "        # Make sure cell is part of a reason\n",
    "        if matrix[row][column] == 0:\n",
    "            return 0\n",
    "        # Make sure you dont search a cell twice\n",
    "        # If you are ok with destroying matrix, reuse it\n",
    "        # Otherwise clone matrix\n",
    "        matrix[row][column] = 0\n",
    "\n",
    "        size = 1\n",
    "        for r in range(row - 1, row + 2):\n",
    "            for c in range(column - 1, column + 2):\n",
    "                if r != row or c != column:\n",
    "                    size += self.getRegionSize(matrix, r, c)\n",
    "        \n",
    "        return size\n",
    "                "
   ]
  },
  {
   "cell_type": "code",
   "execution_count": 121,
   "metadata": {},
   "outputs": [],
   "source": [
    "matrix = [\n",
    "    [0,0,0,1,1,0,0],\n",
    "    [0,1,0,0,1,1,0],\n",
    "    [1,1,0,1,0,0,1],\n",
    "    [0,0,0,0,0,1,0],\n",
    "    [1,1,0,0,0,0,0],\n",
    "    [0,0,0,1,0,0,0]\n",
    "]"
   ]
  },
  {
   "cell_type": "code",
   "execution_count": 122,
   "metadata": {},
   "outputs": [],
   "source": [
    "biggestRegionfinder = ConnectedCells()"
   ]
  },
  {
   "cell_type": "code",
   "execution_count": 123,
   "metadata": {},
   "outputs": [
    {
     "data": {
      "text/plain": [
       "7"
      ]
     },
     "execution_count": 123,
     "metadata": {},
     "output_type": "execute_result"
    }
   ],
   "source": [
    "biggestRegionfinder.getBiggestRegion(matrix)"
   ]
  }
 ],
 "metadata": {
  "kernelspec": {
   "display_name": "Python 3",
   "language": "python",
   "name": "python3"
  },
  "language_info": {
   "codemirror_mode": {
    "name": "ipython",
    "version": 3
   },
   "file_extension": ".py",
   "mimetype": "text/x-python",
   "name": "python",
   "nbconvert_exporter": "python",
   "pygments_lexer": "ipython3",
   "version": "3.6.3"
  }
 },
 "nbformat": 4,
 "nbformat_minor": 2
}
