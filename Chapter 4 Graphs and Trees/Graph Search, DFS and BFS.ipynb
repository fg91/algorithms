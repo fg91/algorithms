{
 "cells": [
  {
   "cell_type": "markdown",
   "metadata": {},
   "source": [
    "https://www.youtube.com/watch?v=zaBhtODEL0w"
   ]
  },
  {
   "cell_type": "code",
   "execution_count": 26,
   "metadata": {
    "collapsed": true
   },
   "outputs": [],
   "source": [
    "class Graph:\n",
    "    def __init__(self):\n",
    "        self.nodeLookup = {}\n",
    "\n",
    "    class Node:\n",
    "        def __init__(self, id=None):\n",
    "            self.id = id\n",
    "            self.adjacent = []\n",
    "    \n",
    "    def getNode(self, id):\n",
    "        return self.nodeLookup.get(id)\n",
    "    \n",
    "    def addNode(self, id):\n",
    "        if self.nodeLookup.get(id) is not None:\n",
    "            raise Exception(\"Id already exists\")\n",
    "        newNode = self.Node(id)\n",
    "        self.nodeLookup[id] = newNode\n",
    "        \n",
    "    def addChildNode(self, parentId, id):\n",
    "        newNode = self.addNode(id)\n",
    "        self.addEdge(parentId, id)\n",
    "    \n",
    "    def addEdge(self, sourceId, destinationId):\n",
    "        s = self.getNode(sourceId)\n",
    "        d = self.getNode(destinationId)\n",
    "        s.adjacent.append(d)\n",
    "        \n",
    "    def hasPathDFS(self, sourceId, destinationId):\n",
    "        visited = {}\n",
    "        s = self.nodeLookup.get(sourceId)\n",
    "        d = self.nodeLookup.get(destinationId)\n",
    "        return self._hasPathDFS(s, d, visited)\n",
    "    \n",
    "    def _hasPathDFS(self, sourceNode, destinationNode, visited):\n",
    "        if visited.get(sourceNode.id): \n",
    "            return False\n",
    "        visited[sourceNode.id] = True\n",
    "        print(sourceNode.id)\n",
    "        if sourceNode is destinationNode:\n",
    "            return True\n",
    "        \n",
    "        # For every child, recursively call the helper function _hasPathDFS\n",
    "        # Return True if one of the children finds the destination\n",
    "        for child in sourceNode.adjacent:\n",
    "            if self._hasPathDFS(child, destinationNode, visited):\n",
    "                return True\n",
    "        return False\n",
    "    \n",
    "    def hasPathBFS(self, sourceId, destinationId):\n",
    "        s = self.nodeLookup.get(sourceId)\n",
    "        d = self.nodeLookup.get(destinationId)\n",
    "        return self._hasPathBFS(s, d)\n",
    "    \n",
    "    def _hasPathBFS(self, sourceNode, destinationNode):\n",
    "        nextToVisit = []\n",
    "        visited = {}\n",
    "        \n",
    "        # Add the starting Node to the Queue\n",
    "        nextToVisit.append(sourceNode)\n",
    "        \n",
    "        while len(nextToVisit) > 0:\n",
    "            nextNode = nextToVisit.pop(0)\n",
    "            \n",
    "            # Check whether this node has already been visited\n",
    "            if visited.get(nextNode.id):\n",
    "                continue\n",
    "            visited[nextNode.id] = True\n",
    "            print(nextNode.id)\n",
    "            if nextNode is destinationNode:\n",
    "                return True\n",
    "\n",
    "            # Add children to Queue\n",
    "            nextToVisit.extend(nextNode.adjacent)\n",
    "\n",
    "        return False  "
   ]
  },
  {
   "cell_type": "markdown",
   "metadata": {},
   "source": [
    "Let us test the DFS:"
   ]
  },
  {
   "cell_type": "code",
   "execution_count": 27,
   "metadata": {
    "collapsed": true
   },
   "outputs": [],
   "source": [
    "#                   A\n",
    "#                 / | \\\n",
    "#                B  G   C\n",
    "#               / \\     \\\n",
    "#              D - E     F\n",
    "# Directed Graph: E points to B but not vice versa\n",
    "\n",
    "g = Graph()\n",
    "g.addNode(\"A\")\n",
    "g.addChildNode(\"A\", \"B\")\n",
    "g.addChildNode(\"A\", \"G\")\n",
    "g.addChildNode(\"A\", \"C\")\n",
    "g.addChildNode(\"B\", \"D\")\n",
    "g.addChildNode(\"D\", \"E\")\n",
    "g.addEdge(\"E\", \"B\")\n",
    "g.addChildNode(\"C\", \"F\")"
   ]
  },
  {
   "cell_type": "code",
   "execution_count": 28,
   "metadata": {},
   "outputs": [
    {
     "name": "stdout",
     "output_type": "stream",
     "text": [
      "A\n",
      "B\n",
      "D\n",
      "E\n",
      "G\n",
      "C\n",
      "F\n"
     ]
    },
    {
     "data": {
      "text/plain": [
       "True"
      ]
     },
     "execution_count": 28,
     "metadata": {},
     "output_type": "execute_result"
    }
   ],
   "source": [
    "g.hasPathDFS(\"A\", \"F\")"
   ]
  },
  {
   "cell_type": "code",
   "execution_count": 29,
   "metadata": {},
   "outputs": [
    {
     "name": "stdout",
     "output_type": "stream",
     "text": [
      "A\n",
      "B\n",
      "D\n",
      "E\n",
      "G\n"
     ]
    },
    {
     "data": {
      "text/plain": [
       "True"
      ]
     },
     "execution_count": 29,
     "metadata": {},
     "output_type": "execute_result"
    }
   ],
   "source": [
    "g.hasPathDFS(\"A\", \"G\")"
   ]
  },
  {
   "cell_type": "markdown",
   "metadata": {},
   "source": [
    "Now, let us test the BFS:"
   ]
  },
  {
   "cell_type": "code",
   "execution_count": 30,
   "metadata": {},
   "outputs": [
    {
     "name": "stdout",
     "output_type": "stream",
     "text": [
      "A\n",
      "B\n",
      "G\n",
      "C\n"
     ]
    },
    {
     "data": {
      "text/plain": [
       "True"
      ]
     },
     "execution_count": 30,
     "metadata": {},
     "output_type": "execute_result"
    }
   ],
   "source": [
    "g.hasPathBFS(\"A\", \"C\")"
   ]
  },
  {
   "cell_type": "code",
   "execution_count": 31,
   "metadata": {},
   "outputs": [
    {
     "name": "stdout",
     "output_type": "stream",
     "text": [
      "A\n",
      "B\n",
      "G\n",
      "C\n",
      "D\n",
      "F\n"
     ]
    },
    {
     "data": {
      "text/plain": [
       "True"
      ]
     },
     "execution_count": 31,
     "metadata": {},
     "output_type": "execute_result"
    }
   ],
   "source": [
    "g.hasPathBFS(\"A\", \"F\")"
   ]
  },
  {
   "cell_type": "code",
   "execution_count": 32,
   "metadata": {},
   "outputs": [
    {
     "name": "stdout",
     "output_type": "stream",
     "text": [
      "B\n",
      "D\n",
      "E\n"
     ]
    },
    {
     "data": {
      "text/plain": [
       "False"
      ]
     },
     "execution_count": 32,
     "metadata": {},
     "output_type": "execute_result"
    }
   ],
   "source": [
    "g.hasPathDFS(\"B\", \"C\")"
   ]
  },
  {
   "cell_type": "code",
   "execution_count": null,
   "metadata": {
    "collapsed": true
   },
   "outputs": [],
   "source": []
  }
 ],
 "metadata": {
  "kernelspec": {
   "display_name": "Python 3",
   "language": "python",
   "name": "python3"
  },
  "language_info": {
   "codemirror_mode": {
    "name": "ipython",
    "version": 3
   },
   "file_extension": ".py",
   "mimetype": "text/x-python",
   "name": "python",
   "nbconvert_exporter": "python",
   "pygments_lexer": "ipython3",
   "version": "3.6.3"
  }
 },
 "nbformat": 4,
 "nbformat_minor": 2
}
