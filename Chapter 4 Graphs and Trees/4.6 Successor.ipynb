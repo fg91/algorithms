{
 "cells": [
  {
   "cell_type": "code",
   "execution_count": 3,
   "metadata": {
    "collapsed": true
   },
   "outputs": [],
   "source": [
    "class BinarySearchTreeNode:\n",
    "    def __init__(self, data):\n",
    "        self.data = data\n",
    "        self.left = None\n",
    "        self.right = None\n",
    "        self.parent = None\n",
    "    \n",
    "    def insert(self, value):\n",
    "        if value <= self.data:\n",
    "            if self.left is None:\n",
    "                self.left = BinarySearchTreeNode(value)\n",
    "                self.left.parent = self\n",
    "            else:\n",
    "                self.left.insert(value)\n",
    "        else:\n",
    "            if self.right is None:\n",
    "                self.right = BinarySearchTreeNode(value)\n",
    "                self.right.parent = self\n",
    "            else:\n",
    "                self.right.insert(value)"
   ]
  },
  {
   "cell_type": "code",
   "execution_count": 36,
   "metadata": {
    "collapsed": true
   },
   "outputs": [],
   "source": [
    "def findSuccessor(node):\n",
    "    if node is None:\n",
    "        return None\n",
    "    \n",
    "    # If there is a right subtree, get the leftmost child of right subtree\n",
    "    if node.right is not None:\n",
    "        return leftMostChild(node.right)\n",
    "    \n",
    "    # If there is no right subtree, go to repetively the parent\n",
    "    # until you are the left child. Then return the parent\n",
    "    else:\n",
    "        p = node.parent\n",
    "        \n",
    "        while p is not None and p.left is not node:\n",
    "            node = p\n",
    "            p = p.parent\n",
    "            \n",
    "        return p\n",
    "    \n",
    "def leftMostChild(node):\n",
    "    if node is None:\n",
    "        return None\n",
    "    \n",
    "    while node.left is not None:\n",
    "        node = node.left\n",
    "        \n",
    "    return node"
   ]
  },
  {
   "cell_type": "markdown",
   "metadata": {},
   "source": [
    "Let's test it:"
   ]
  },
  {
   "cell_type": "code",
   "execution_count": 37,
   "metadata": {
    "collapsed": true
   },
   "outputs": [],
   "source": [
    "#        0\n",
    "#             10\n",
    "#       6           15\n",
    "#    4     8     12      16\n",
    "#  2   5\n",
    "# 1 3\n",
    "root = BinarySearchTreeNode(0)\n",
    "root.insert(10)\n",
    "root.insert(6)\n",
    "root.insert(15)\n",
    "root.insert(4)\n",
    "root.insert(8)\n",
    "root.insert(12)\n",
    "root.insert(16)\n",
    "root.insert(2)\n",
    "root.insert(5)\n",
    "root.insert(1)\n",
    "root.insert(3)"
   ]
  },
  {
   "cell_type": "code",
   "execution_count": 40,
   "metadata": {},
   "outputs": [
    {
     "data": {
      "text/plain": [
       "1"
      ]
     },
     "execution_count": 40,
     "metadata": {},
     "output_type": "execute_result"
    }
   ],
   "source": [
    "findSuccessor(root).data"
   ]
  },
  {
   "cell_type": "code",
   "execution_count": 43,
   "metadata": {},
   "outputs": [
    {
     "name": "stdout",
     "output_type": "stream",
     "text": [
      "8\n",
      "10\n"
     ]
    }
   ],
   "source": [
    "test2 = root.right.left.right\n",
    "print(test2.data)\n",
    "print(findSuccessor(test2).data)"
   ]
  },
  {
   "cell_type": "code",
   "execution_count": 47,
   "metadata": {},
   "outputs": [
    {
     "name": "stdout",
     "output_type": "stream",
     "text": [
      "16\n"
     ]
    }
   ],
   "source": [
    "test3 = root.right.right.right\n",
    "print(test3.data)"
   ]
  },
  {
   "cell_type": "code",
   "execution_count": 51,
   "metadata": {
    "collapsed": true
   },
   "outputs": [],
   "source": [
    "findSuccessor(test3) # Returns the \"parent of root\" which is None"
   ]
  },
  {
   "cell_type": "code",
   "execution_count": null,
   "metadata": {
    "collapsed": true
   },
   "outputs": [],
   "source": []
  }
 ],
 "metadata": {
  "kernelspec": {
   "display_name": "Python 3",
   "language": "python",
   "name": "python3"
  },
  "language_info": {
   "codemirror_mode": {
    "name": "ipython",
    "version": 3
   },
   "file_extension": ".py",
   "mimetype": "text/x-python",
   "name": "python",
   "nbconvert_exporter": "python",
   "pygments_lexer": "ipython3",
   "version": "3.6.3"
  }
 },
 "nbformat": 4,
 "nbformat_minor": 2
}
