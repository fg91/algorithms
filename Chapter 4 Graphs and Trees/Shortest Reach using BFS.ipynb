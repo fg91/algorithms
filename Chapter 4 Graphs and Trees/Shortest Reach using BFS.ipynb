{
 "cells": [
  {
   "cell_type": "markdown",
   "metadata": {},
   "source": [
    "https://www.youtube.com/watch?v=0XgVhsMOcQM"
   ]
  },
  {
   "cell_type": "code",
   "execution_count": 1,
   "metadata": {
    "collapsed": true
   },
   "outputs": [],
   "source": [
    "class Graph:\n",
    "    def __init__(self):\n",
    "        self.nodeLookup = {}\n",
    "        self.count = 0\n",
    "\n",
    "    class Node:\n",
    "        def __init__(self, id=None):\n",
    "            self.id = id\n",
    "            self.neighbours = []\n",
    "    \n",
    "    def getNode(self, id):\n",
    "        return self.nodeLookup.get(id)\n",
    "    \n",
    "    def addNode(self, id):\n",
    "        if self.nodeLookup.get(id) is not None:\n",
    "            raise Exception(\"Id already exists\")\n",
    "        newNode = self.Node(id)\n",
    "        self.nodeLookup[id] = newNode\n",
    "        self.count += 1\n",
    "        \n",
    "    def addChildNode(self, parentId, id):\n",
    "        newNode = self.addNode(id)\n",
    "        self.addEdge(parentId, id)\n",
    "    \n",
    "    def addEdge(self, sourceId, destinationId):\n",
    "        s = self.getNode(sourceId)\n",
    "        d = self.getNode(destinationId)\n",
    "        # Undirected graph\n",
    "        s.neighbours.append(d)\n",
    "        d.neighbours.append(s)\n",
    "\n",
    "    def shortestReach(self, sourceId):\n",
    "        # Get starting node\n",
    "        s = self.nodeLookup.get(sourceId)\n",
    "        # Queue for the next nodes to visit\n",
    "        nextToVisit = []\n",
    "        # Initialize all distances as -1. If there is no connection, -1 is returned\n",
    "        distances = [-1] * self.count\n",
    "        \n",
    "        distances[sourceId] = 0\n",
    "        # Add the starting node to the Queue\n",
    "        nextToVisit.append(s)\n",
    "        \n",
    "        while len(nextToVisit) > 0:\n",
    "            # Pop the first node from the Queue\n",
    "            nextNode = nextToVisit.pop(0)\n",
    "            # For all its neighbours ...\n",
    "            for neighbour in nextNode.neighbours:\n",
    "                # ... check whether each respective neighbour has already been visited to make sure \n",
    "                # that the shortest distances is returned. Not visited means distance is -1\n",
    "                if distances[neighbour.id] is -1:\n",
    "                    # If the neighbour has not been visited yet, the distance to it\n",
    "                    # is distance to the current node + 1 (if the edges have a distance of 1)\n",
    "                    distances[neighbour.id] = distances[nextNode.id] + 1\n",
    "                    # and then append all neighbours to the Queue\n",
    "                    nextToVisit.append(neighbour) # here it would be smart to check that only neighbours are added to Queue that have not been visited yet\n",
    "        return distances"
   ]
  },
  {
   "cell_type": "markdown",
   "metadata": {},
   "source": [
    "Let us test the Shortest Reach method with the graph from the video"
   ]
  },
  {
   "cell_type": "code",
   "execution_count": 2,
   "metadata": {
    "collapsed": true
   },
   "outputs": [],
   "source": [
    "# 2 - 1 - 3 - 6     7-8\n",
    "#        / \\\n",
    "#       0   4\n",
    "#       \\  /\n",
    "#        5"
   ]
  },
  {
   "cell_type": "code",
   "execution_count": 3,
   "metadata": {
    "collapsed": true
   },
   "outputs": [],
   "source": [
    "g = Graph()\n",
    "g.addNode(1)\n",
    "g.addChildNode(1,2)\n",
    "g.addChildNode(1,3)\n",
    "g.addChildNode(3,4)\n",
    "g.addChildNode(4,5)\n",
    "g.addChildNode(5,0)\n",
    "g.addEdge(0,3)\n",
    "g.addChildNode(3,6)\n",
    "g.addNode(7)\n",
    "g.addChildNode(7,8)"
   ]
  },
  {
   "cell_type": "code",
   "execution_count": 4,
   "metadata": {
    "collapsed": true
   },
   "outputs": [],
   "source": [
    "# Calculate the distances from node 1\n",
    "distances = g.shortestReach(1)"
   ]
  },
  {
   "cell_type": "code",
   "execution_count": 5,
   "metadata": {},
   "outputs": [
    {
     "name": "stdout",
     "output_type": "stream",
     "text": [
      "Distance to node 0 is 2\n",
      "Distance to node 1 is 0\n",
      "Distance to node 2 is 1\n",
      "Distance to node 3 is 1\n",
      "Distance to node 4 is 2\n",
      "Distance to node 5 is 3\n",
      "Distance to node 6 is 2\n",
      "Distance to node 7 is -1\n",
      "Distance to node 8 is -1\n"
     ]
    }
   ],
   "source": [
    "for id, d in enumerate(distances):\n",
    "    print(\"Distance to node {} is {}\".format(id, d))"
   ]
  },
  {
   "cell_type": "code",
   "execution_count": null,
   "metadata": {
    "collapsed": true
   },
   "outputs": [],
   "source": []
  }
 ],
 "metadata": {
  "kernelspec": {
   "display_name": "Python 3",
   "language": "python",
   "name": "python3"
  },
  "language_info": {
   "codemirror_mode": {
    "name": "ipython",
    "version": 3
   },
   "file_extension": ".py",
   "mimetype": "text/x-python",
   "name": "python",
   "nbconvert_exporter": "python",
   "pygments_lexer": "ipython3",
   "version": "3.6.3"
  }
 },
 "nbformat": 4,
 "nbformat_minor": 2
}
