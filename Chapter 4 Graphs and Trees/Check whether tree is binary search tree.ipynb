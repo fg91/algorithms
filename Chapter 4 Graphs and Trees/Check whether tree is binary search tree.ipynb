{
 "cells": [
  {
   "cell_type": "markdown",
   "metadata": {},
   "source": [
    "https://www.youtube.com/watch?v=i_Q0v_Ct5lY\n",
    "Good hint for any recursive problems: Always check base cases. \n",
    "For example if you return a boolean, make sure you also have at least \n",
    "one return True and at least one return False statement somewhere.\n",
    "Because if by mistake you only had a return False, you obviously could \n",
    "never get True. \n",
    "\n",
    "Time complexity: O(n) where n is number of nodes.\n",
    "Space complexity: O(log n) because space complexity of tree traversal is O(h), if balanced, where h is hight of tree."
   ]
  },
  {
   "cell_type": "code",
   "execution_count": 2,
   "metadata": {
    "collapsed": true
   },
   "outputs": [],
   "source": [
    "import sys"
   ]
  },
  {
   "cell_type": "code",
   "execution_count": 1,
   "metadata": {
    "collapsed": true
   },
   "outputs": [],
   "source": [
    "class BinarySearchTreeNode:\n",
    "    def __init__(self, data):\n",
    "        self.data = data\n",
    "        self.left = None\n",
    "        self.right = None"
   ]
  },
  {
   "cell_type": "code",
   "execution_count": 16,
   "metadata": {},
   "outputs": [],
   "source": [
    "def checkBST(node):\n",
    "    return checkBSTHelper(node, -sys.maxsize - 1, sys.maxsize) \n",
    "\n",
    "def checkBSTHelper(node, min, max):# inclusive ranges\n",
    "    if node is None:\n",
    "        return True\n",
    "    if node.data < min or node.data > max:\n",
    "        return False\n",
    "    return checkBSTHelper(node.left, min, node.data - 1) and checkBSTHelper(node.right, node.data + 1, max)\n",
    "    "
   ]
  },
  {
   "cell_type": "code",
   "execution_count": 17,
   "metadata": {
    "collapsed": true
   },
   "outputs": [],
   "source": [
    "#Let us test it:\n",
    "#                50\n",
    "#  [-infty,50)          (50,infty]    \n",
    "#       10                    80\n",
    "#[-infty,10)   (10,50)    (50,80)     (80,infty]\n",
    "#  5           30         70            90   "
   ]
  },
  {
   "cell_type": "code",
   "execution_count": 24,
   "metadata": {
    "collapsed": true
   },
   "outputs": [],
   "source": [
    "root = BinarySearchTreeNode(50)\n",
    "root.left = l1 = BinarySearchTreeNode(10)\n",
    "root.right = r1 = BinarySearchTreeNode(80)\n",
    "\n",
    "l1.left = BinarySearchTreeNode(5)\n",
    "l1.right = BinarySearchTreeNode(30)\n",
    "\n",
    "r1.left = BinarySearchTreeNode(70)\n",
    "r1.right = BinarySearchTreeNode(90)"
   ]
  },
  {
   "cell_type": "code",
   "execution_count": 25,
   "metadata": {},
   "outputs": [
    {
     "data": {
      "text/plain": [
       "True"
      ]
     },
     "execution_count": 25,
     "metadata": {},
     "output_type": "execute_result"
    }
   ],
   "source": [
    "checkBST(root)"
   ]
  },
  {
   "cell_type": "code",
   "execution_count": 26,
   "metadata": {
    "collapsed": true
   },
   "outputs": [],
   "source": [
    "root = BinarySearchTreeNode(50)\n",
    "root.left = l1 = BinarySearchTreeNode(10)\n",
    "root.right = r1 = BinarySearchTreeNode(80)\n",
    "\n",
    "l1.left = BinarySearchTreeNode(5)\n",
    "l1.right = BinarySearchTreeNode(55) # Mistake\n",
    "\n",
    "r1.left = BinarySearchTreeNode(70)\n",
    "r1.right = BinarySearchTreeNode(90) "
   ]
  },
  {
   "cell_type": "code",
   "execution_count": 27,
   "metadata": {},
   "outputs": [
    {
     "data": {
      "text/plain": [
       "False"
      ]
     },
     "execution_count": 27,
     "metadata": {},
     "output_type": "execute_result"
    }
   ],
   "source": [
    "checkBST(root)"
   ]
  },
  {
   "cell_type": "code",
   "execution_count": null,
   "metadata": {
    "collapsed": true
   },
   "outputs": [],
   "source": []
  }
 ],
 "metadata": {
  "kernelspec": {
   "display_name": "Python 3",
   "language": "python",
   "name": "python3"
  },
  "language_info": {
   "codemirror_mode": {
    "name": "ipython",
    "version": 3
   },
   "file_extension": ".py",
   "mimetype": "text/x-python",
   "name": "python",
   "nbconvert_exporter": "python",
   "pygments_lexer": "ipython3",
   "version": "3.6.3"
  }
 },
 "nbformat": 4,
 "nbformat_minor": 2
}
