{
 "cells": [
  {
   "cell_type": "code",
   "execution_count": 1,
   "metadata": {
    "collapsed": true
   },
   "outputs": [],
   "source": [
    "from LinkedList import LinkedList"
   ]
  },
  {
   "cell_type": "code",
   "execution_count": 7,
   "metadata": {
    "collapsed": true
   },
   "outputs": [],
   "source": [
    "def loop_detection(ll):\n",
    "    \"\"\" Checks whether a linked list is a loop \"\"\"\n",
    "    slow = fast = ll.head\n",
    "    # Slow runner half as fast as fast runner. If its two steps until the loop starts\n",
    "    # they will meet two steps before the list ends, if its three steps until the loop\n",
    "    # starts, they will meet three steps, before the list ends\n",
    "    while fast and fast.next:\n",
    "        slow = slow.next\n",
    "        fast = fast.next.next\n",
    "        if slow is fast:\n",
    "            break\n",
    "    \n",
    "    # Error check - no meeting point, therefore no loop\n",
    "    if fast is None or fast.next is None:\n",
    "        return None\n",
    "    \n",
    "    # Move slow pointer to the head of the linked list, fast remains at collision point. Both pointers now have the \n",
    "    # same distance from the start of the loop. Move them at the same pace until they collide\n",
    "    slow = ll.head\n",
    "    while fast is not slow:\n",
    "        slow = slow.next\n",
    "        fast = fast.next\n",
    "        \n",
    "    return fast"
   ]
  },
  {
   "cell_type": "code",
   "execution_count": 8,
   "metadata": {
    "collapsed": true
   },
   "outputs": [],
   "source": [
    "loop = LinkedList()"
   ]
  },
  {
   "cell_type": "code",
   "execution_count": 9,
   "metadata": {
    "collapsed": true
   },
   "outputs": [],
   "source": [
    "loop.add_multiple([0,1,2,3,4,5,6,7,8,9])"
   ]
  },
  {
   "cell_type": "code",
   "execution_count": 10,
   "metadata": {},
   "outputs": [],
   "source": [
    "loop.tail.next = loop.head.next.next.next.next  # Collision point at 4"
   ]
  },
  {
   "cell_type": "code",
   "execution_count": 11,
   "metadata": {},
   "outputs": [
    {
     "data": {
      "text/plain": [
       "4"
      ]
     },
     "execution_count": 11,
     "metadata": {},
     "output_type": "execute_result"
    }
   ],
   "source": [
    "loop_detection(loop).value"
   ]
  },
  {
   "cell_type": "code",
   "execution_count": null,
   "metadata": {
    "collapsed": true
   },
   "outputs": [],
   "source": []
  }
 ],
 "metadata": {
  "kernelspec": {
   "display_name": "Python 3",
   "language": "python",
   "name": "python3"
  },
  "language_info": {
   "codemirror_mode": {
    "name": "ipython",
    "version": 3
   },
   "file_extension": ".py",
   "mimetype": "text/x-python",
   "name": "python",
   "nbconvert_exporter": "python",
   "pygments_lexer": "ipython3",
   "version": "3.6.3"
  }
 },
 "nbformat": 4,
 "nbformat_minor": 2
}
