{
 "cells": [
  {
   "cell_type": "markdown",
   "metadata": {},
   "source": [
    "Runner traverses the linked list twice as fast as the slow pointer. Slow pointer adds the values of the nodes into a stack. When runner hits the end of the linked list, slow pointer is in the middle (exception if length is odd). Iterate through rest of list while comparing to the stack."
   ]
  },
  {
   "cell_type": "code",
   "execution_count": 18,
   "metadata": {
    "collapsed": true
   },
   "outputs": [],
   "source": [
    "from LinkedList import LinkedList"
   ]
  },
  {
   "cell_type": "code",
   "execution_count": 25,
   "metadata": {
    "collapsed": true
   },
   "outputs": [],
   "source": [
    "def palindrome(ll):\n",
    "    \"\"\" Checks whether a linked list is a palindrome \"\"\"\n",
    "    stack = []\n",
    "    current = runner = ll.head\n",
    "    \n",
    "    while runner and runner.next:\n",
    "        stack.append(current.value)\n",
    "        current = current.next\n",
    "        runner = runner.next.next\n",
    "        \n",
    "    if runner:\n",
    "        current = current.next\n",
    "    \n",
    "    while current:\n",
    "        top = stack.pop()\n",
    "        if current.value != top:\n",
    "            return False\n",
    "        current = current.next\n",
    "    return True   "
   ]
  },
  {
   "cell_type": "code",
   "execution_count": 26,
   "metadata": {
    "collapsed": true
   },
   "outputs": [],
   "source": [
    "ll1 = LinkedList()\n",
    "ll1.add_multiple([1,2,3,4,5,6,5,4,3,2,1])\n",
    "ll2 = LinkedList()\n",
    "ll2.add_multiple([1,2,3,4,5,5,4,3,2,1])\n",
    "ll3 = LinkedList()\n",
    "ll3.add_multiple([1,2,3,4,5,1,2,3,4,5])"
   ]
  },
  {
   "cell_type": "code",
   "execution_count": 27,
   "metadata": {},
   "outputs": [
    {
     "data": {
      "text/plain": [
       "True"
      ]
     },
     "execution_count": 27,
     "metadata": {},
     "output_type": "execute_result"
    }
   ],
   "source": [
    "palindrome(ll1)"
   ]
  },
  {
   "cell_type": "code",
   "execution_count": 28,
   "metadata": {},
   "outputs": [
    {
     "data": {
      "text/plain": [
       "True"
      ]
     },
     "execution_count": 28,
     "metadata": {},
     "output_type": "execute_result"
    }
   ],
   "source": [
    "palindrome(ll2)"
   ]
  },
  {
   "cell_type": "code",
   "execution_count": 29,
   "metadata": {},
   "outputs": [
    {
     "data": {
      "text/plain": [
       "False"
      ]
     },
     "execution_count": 29,
     "metadata": {},
     "output_type": "execute_result"
    }
   ],
   "source": [
    "palindrome(ll3)"
   ]
  },
  {
   "cell_type": "code",
   "execution_count": null,
   "metadata": {
    "collapsed": true
   },
   "outputs": [],
   "source": []
  }
 ],
 "metadata": {
  "kernelspec": {
   "display_name": "Python 3",
   "language": "python",
   "name": "python3"
  },
  "language_info": {
   "codemirror_mode": {
    "name": "ipython",
    "version": 3
   },
   "file_extension": ".py",
   "mimetype": "text/x-python",
   "name": "python",
   "nbconvert_exporter": "python",
   "pygments_lexer": "ipython3",
   "version": "3.6.3"
  }
 },
 "nbformat": 4,
 "nbformat_minor": 2
}
