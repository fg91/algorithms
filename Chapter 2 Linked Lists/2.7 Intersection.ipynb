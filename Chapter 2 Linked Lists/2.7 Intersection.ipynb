{
 "cells": [
  {
   "cell_type": "markdown",
   "metadata": {},
   "source": [
    "Time complexity O(A+B) if A, B are the lengths of the linked lists. It takes O(1) additional space"
   ]
  },
  {
   "cell_type": "code",
   "execution_count": 1,
   "metadata": {
    "collapsed": true
   },
   "outputs": [],
   "source": [
    "from LinkedList import LinkedList"
   ]
  },
  {
   "cell_type": "code",
   "execution_count": 2,
   "metadata": {},
   "outputs": [],
   "source": [
    "def intersect(ll1,ll2):\n",
    "    \"\"\" Checks whether two linked lists intersect and returns the intersection node \"\"\"\n",
    "    if ll1 is None or ll2 is None:\n",
    "        return None\n",
    "    l1, tail1 = getTailandSize(ll1)\n",
    "    l2, tail2 = getTailandSize(ll2)\n",
    "    # If the tails are not the same, the lists do not intersect\n",
    "    if tail1 != tail2:\n",
    "        return False\n",
    "    \n",
    "    short, long = (ll1, ll2) if l1<l2 else (ll2,ll1)\n",
    "    current_short = short.head\n",
    "    current_long  = long.head\n",
    "  \n",
    "    for _ in range(abs(l1-l2)):\n",
    "        current_long = current_long.next\n",
    "    while current_short != current_long:\n",
    "        current_short = current_short.next\n",
    "        current_long  = current_long.next\n",
    "    return current_short"
   ]
  },
  {
   "cell_type": "code",
   "execution_count": 3,
   "metadata": {
    "collapsed": true
   },
   "outputs": [],
   "source": [
    "def getTailandSize(ll):\n",
    "    \"\"\" Determines the length of a linked list and returns the length and the tail node \"\"\"\n",
    "    if ll is None:\n",
    "        return None\n",
    "\n",
    "    size = 1\n",
    "    current = ll.head\n",
    "    while current.next:\n",
    "        size += 1\n",
    "        current = current.next\n",
    "    return size, current"
   ]
  },
  {
   "cell_type": "code",
   "execution_count": 4,
   "metadata": {
    "collapsed": true
   },
   "outputs": [],
   "source": [
    "ll1 = LinkedList()\n",
    "ll2 = LinkedList()"
   ]
  },
  {
   "cell_type": "code",
   "execution_count": 5,
   "metadata": {
    "collapsed": true
   },
   "outputs": [],
   "source": [
    "ll1.add_multiple([1,2,3,4,5,6,7,8,9])"
   ]
  },
  {
   "cell_type": "code",
   "execution_count": 6,
   "metadata": {
    "collapsed": true
   },
   "outputs": [],
   "source": [
    "ll2.add_multiple([9,8,7])"
   ]
  },
  {
   "cell_type": "code",
   "execution_count": 7,
   "metadata": {},
   "outputs": [],
   "source": [
    "ll2.tail.next = ll1.head.next.next.next.next"
   ]
  },
  {
   "cell_type": "code",
   "execution_count": 8,
   "metadata": {},
   "outputs": [
    {
     "name": "stdout",
     "output_type": "stream",
     "text": [
      "1 -> 2 -> 3 -> 4 -> 5 -> 6 -> 7 -> 8 -> 9\n",
      "9 -> 8 -> 7 -> 5 -> 6 -> 7 -> 8 -> 9\n"
     ]
    }
   ],
   "source": [
    "print(ll1)\n",
    "print(ll2)"
   ]
  },
  {
   "cell_type": "code",
   "execution_count": 9,
   "metadata": {},
   "outputs": [
    {
     "data": {
      "text/plain": [
       "5"
      ]
     },
     "execution_count": 9,
     "metadata": {},
     "output_type": "execute_result"
    }
   ],
   "source": [
    "intersect(ll1,ll2).value"
   ]
  },
  {
   "cell_type": "code",
   "execution_count": 10,
   "metadata": {
    "collapsed": true
   },
   "outputs": [],
   "source": [
    "ll3 = LinkedList()\n",
    "ll4 = LinkedList()"
   ]
  },
  {
   "cell_type": "code",
   "execution_count": 11,
   "metadata": {
    "collapsed": true
   },
   "outputs": [],
   "source": [
    "ll3.add_multiple([1,2,3,4,5])\n",
    "ll4.add_multiple([2,3,4,5,6])"
   ]
  },
  {
   "cell_type": "code",
   "execution_count": 12,
   "metadata": {},
   "outputs": [
    {
     "data": {
      "text/plain": [
       "False"
      ]
     },
     "execution_count": 12,
     "metadata": {},
     "output_type": "execute_result"
    }
   ],
   "source": [
    "intersect(ll3,ll4)"
   ]
  }
 ],
 "metadata": {
  "kernelspec": {
   "display_name": "Python 3",
   "language": "python",
   "name": "python3"
  },
  "language_info": {
   "codemirror_mode": {
    "name": "ipython",
    "version": 3
   },
   "file_extension": ".py",
   "mimetype": "text/x-python",
   "name": "python",
   "nbconvert_exporter": "python",
   "pygments_lexer": "ipython3",
   "version": "3.6.3"
  }
 },
 "nbformat": 4,
 "nbformat_minor": 2
}
