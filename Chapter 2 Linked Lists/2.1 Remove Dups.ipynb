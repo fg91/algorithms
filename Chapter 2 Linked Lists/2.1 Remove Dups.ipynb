{
 "cells": [
  {
   "cell_type": "code",
   "execution_count": 15,
   "metadata": {
    "collapsed": true
   },
   "outputs": [],
   "source": [
    "from LinkedList import LinkedList"
   ]
  },
  {
   "cell_type": "code",
   "execution_count": 16,
   "metadata": {
    "collapsed": true
   },
   "outputs": [],
   "source": [
    "def removeDups(ll):\n",
    "    \"\"\" Removes duplicates in a Linked List \"\"\"\n",
    "    if ll.head is None:\n",
    "        return\n",
    "    \n",
    "    current = ll.head\n",
    "    found = set([current.value])\n",
    "    while current.next:\n",
    "        if current.next.value in found:\n",
    "            if current.next is ll.tail:\n",
    "                ll.tail = current\n",
    "            else:\n",
    "                current.next = current.next.next\n",
    "        else:\n",
    "            found.add(current.next.value)\n",
    "            current = current.next\n",
    "    \n",
    "    return ll"
   ]
  },
  {
   "cell_type": "code",
   "execution_count": 17,
   "metadata": {
    "collapsed": true
   },
   "outputs": [],
   "source": [
    "def removeDups_FollowUp(ll):\n",
    "    \"\"\" Removes duplicates in a Linked List \"\"\"\n",
    "    if ll.head is None:\n",
    "        return\n",
    "    \n",
    "    current = ll.head\n",
    "    while current:\n",
    "        runner = current\n",
    "        while runner.next:\n",
    "            if runner.next.value == current.value:\n",
    "                if runner.next is ll.tail:\n",
    "                    ll.tail = runner\n",
    "                else:\n",
    "                    runner.next = runner.next.next\n",
    "            else:\n",
    "                runner = runner.next\n",
    "        current = current.next\n",
    "    \n",
    "    return ll"
   ]
  },
  {
   "cell_type": "code",
   "execution_count": 18,
   "metadata": {},
   "outputs": [
    {
     "name": "stdout",
     "output_type": "stream",
     "text": [
      "9 -> 5 -> 0 -> 3 -> 8 -> 2 -> 6 -> 5 -> 1 -> 0\n",
      "9 -> 5 -> 0 -> 3 -> 8 -> 2 -> 6 -> 1\n"
     ]
    }
   ],
   "source": [
    "ll = LinkedList()\n",
    "ll.generate(10, 0, 9)\n",
    "print(ll)\n",
    "removeDups(ll)\n",
    "print(ll)"
   ]
  },
  {
   "cell_type": "code",
   "execution_count": 19,
   "metadata": {},
   "outputs": [
    {
     "name": "stdout",
     "output_type": "stream",
     "text": [
      "5 -> 8 -> 3 -> 8 -> 2 -> 3 -> 1 -> 5 -> 4 -> 2\n",
      "5 -> 8 -> 3 -> 2 -> 1 -> 4\n"
     ]
    }
   ],
   "source": [
    "ll.generate(10, 0, 9)\n",
    "print(ll)\n",
    "removeDups_FollowUp(ll)\n",
    "print(ll)"
   ]
  },
  {
   "cell_type": "code",
   "execution_count": null,
   "metadata": {
    "collapsed": true
   },
   "outputs": [],
   "source": []
  }
 ],
 "metadata": {
  "kernelspec": {
   "display_name": "Python 3",
   "language": "python",
   "name": "python3"
  },
  "language_info": {
   "codemirror_mode": {
    "name": "ipython",
    "version": 3
   },
   "file_extension": ".py",
   "mimetype": "text/x-python",
   "name": "python",
   "nbconvert_exporter": "python",
   "pygments_lexer": "ipython3",
   "version": "3.6.3"
  }
 },
 "nbformat": 4,
 "nbformat_minor": 2
}
