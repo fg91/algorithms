{
 "cells": [
  {
   "cell_type": "markdown",
   "metadata": {},
   "source": [
    "Time complexity O(n) if n = length of string"
   ]
  },
  {
   "cell_type": "code",
   "execution_count": 134,
   "metadata": {
    "collapsed": true
   },
   "outputs": [],
   "source": [
    "import unittest"
   ]
  },
  {
   "cell_type": "code",
   "execution_count": 135,
   "metadata": {
    "collapsed": true
   },
   "outputs": [],
   "source": [
    "def palindromepermut(string):\n",
    "    \"\"\" Checks whether a string is a permutation of a palindrome \"\"\"\n",
    "    string = string.lower()\n",
    "    char_set = [0 for _ in range(128)]          # Assumes ASCII\n",
    "    for i in string:\n",
    "        char_set[ord(i)] += 1\n",
    "    \n",
    "    char_set[32] = 0 # \" \" does not count\n",
    "    count_odd = 0\n",
    "    for i in range(128):\n",
    "        if char_set[i] % 2 == 1: \n",
    "            count_odd += 1\n",
    "\n",
    "    return count_odd <= 1\n"
   ]
  },
  {
   "cell_type": "code",
   "execution_count": 136,
   "metadata": {},
   "outputs": [
    {
     "name": "stderr",
     "output_type": "stream",
     "text": [
      ".\n",
      "----------------------------------------------------------------------\n",
      "Ran 1 test in 0.009s\n",
      "\n",
      "OK\n"
     ]
    }
   ],
   "source": [
    "class Test(unittest.TestCase):\n",
    "    dataT = [\"Tact Coa\", \"neben\", \"Reittier\", \"Rentner\"]\n",
    "    dataF = [\"Test\", \"Palindrom\"]\n",
    "    \n",
    "    def test_palindrompermut(self):\n",
    "        # true check\n",
    "        for test_string in self.dataT:\n",
    "            actual = palindromepermut(test_string)\n",
    "            self.assertTrue(actual)\n",
    "        # false check\n",
    "        for test_string in self.dataF:\n",
    "            actual = palindromepermut(test_string)\n",
    "            self.assertFalse(actual)\n",
    "\n",
    "if __name__ == \"__main__\":\n",
    "    unittest.main(argv=['first-arg-is-ignored'], exit=False)"
   ]
  },
  {
   "cell_type": "code",
   "execution_count": null,
   "metadata": {
    "collapsed": true
   },
   "outputs": [],
   "source": []
  }
 ],
 "metadata": {
  "kernelspec": {
   "display_name": "Python 3",
   "language": "python",
   "name": "python3"
  },
  "language_info": {
   "codemirror_mode": {
    "name": "ipython",
    "version": 3
   },
   "file_extension": ".py",
   "mimetype": "text/x-python",
   "name": "python",
   "nbconvert_exporter": "python",
   "pygments_lexer": "ipython3",
   "version": "3.6.3"
  }
 },
 "nbformat": 4,
 "nbformat_minor": 2
}
