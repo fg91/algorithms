{
 "cells": [
  {
   "cell_type": "code",
   "execution_count": 25,
   "metadata": {
    "collapsed": true
   },
   "outputs": [],
   "source": [
    "import unittest"
   ]
  },
  {
   "cell_type": "code",
   "execution_count": 26,
   "metadata": {
    "collapsed": true
   },
   "outputs": [],
   "source": [
    "def isSubstring(string, substring):\n",
    "    return string.find(substring) != -1"
   ]
  },
  {
   "cell_type": "code",
   "execution_count": 27,
   "metadata": {},
   "outputs": [],
   "source": [
    "def stringRotation(string1, string2):\n",
    "    \"\"\" Checks whether string2 is a rotation of string1 \"\"\"\n",
    "    if len(string1) == len(string2) != 0:\n",
    "        s2s2 = string2+string2\n",
    "        return isSubstring(s2s2, string1)\n",
    "    return False"
   ]
  },
  {
   "cell_type": "code",
   "execution_count": 28,
   "metadata": {},
   "outputs": [
    {
     "name": "stderr",
     "output_type": "stream",
     "text": [
      ".\n",
      "----------------------------------------------------------------------\n",
      "Ran 1 test in 0.002s\n",
      "\n",
      "OK\n"
     ]
    }
   ],
   "source": [
    "class Test(unittest.TestCase):\n",
    "    data = [\n",
    "        (\"waterbottle\",\"erbottlewat\",True),\n",
    "        (\"foo\", \"bar\", False),\n",
    "        (\"foo\", \"foofoo\", False)\n",
    "        ]\n",
    "    \n",
    "    def test_stringRotation(self):\n",
    "        for string, rotation, result in self.data:\n",
    "            actual = stringRotation(string,rotation)\n",
    "            self.assertEqual(actual,result)\n",
    "            \n",
    "if __name__ == \"__main__\":\n",
    "    unittest.main(argv=[\"ignore-first-arg\"], exit=False)"
   ]
  },
  {
   "cell_type": "code",
   "execution_count": null,
   "metadata": {
    "collapsed": true
   },
   "outputs": [],
   "source": []
  }
 ],
 "metadata": {
  "kernelspec": {
   "display_name": "Python 3",
   "language": "python",
   "name": "python3"
  },
  "language_info": {
   "codemirror_mode": {
    "name": "ipython",
    "version": 3
   },
   "file_extension": ".py",
   "mimetype": "text/x-python",
   "name": "python",
   "nbconvert_exporter": "python",
   "pygments_lexer": "ipython3",
   "version": "3.5.4"
  }
 },
 "nbformat": 4,
 "nbformat_minor": 2
}
