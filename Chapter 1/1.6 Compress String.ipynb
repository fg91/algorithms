{
 "cells": [
  {
   "cell_type": "markdown",
   "metadata": {},
   "source": [
    "Time complexity O(n) if n is length of string. \n",
    "The book suggests to either create the entire compressed string using a string builder first and then comparing its length to the length of the original string or to first check whether string compression yields a shorter string and then building the string builder to its right capacity so that it does not have to increase its size. This however gives nearly duplicate code. \n",
    "My solution does not check in advance whether compression works, nor does it create the entire compressed string to check only after that whether its shorter than the original string. Instead the method authomatically stops creating the compressed version of the string ones it becomes longer than the original. Checking if the result is shorter and creating the compressed string is done in one pass."
   ]
  },
  {
   "cell_type": "code",
   "execution_count": 174,
   "metadata": {
    "collapsed": true
   },
   "outputs": [],
   "source": [
    "import unittest"
   ]
  },
  {
   "cell_type": "code",
   "execution_count": 175,
   "metadata": {},
   "outputs": [],
   "source": [
    "def strcompress(string):\n",
    "    \"\"\" Returns a compressed string if the length is shorter than the original string \"\"\"\n",
    "    strarr = [0 for _ in range(len(string))]        # Create array of length n\n",
    "    j = len(string) - 1\n",
    "    count = 1\n",
    "    for i in reversed(range(len(string))):          # todo: In fact no need to do it reversed, change everything at some point\n",
    "        if j <= 1 and i >= 0:                       # If the compressed array does not fit in strarr which has the same length as the string: return the original string\n",
    "            return string\n",
    "        if string[i-1] == string[i] and i > 0:      \n",
    "            count += 1\n",
    "        if string[i-1] != string[i] or i == 0:\n",
    "            strarr[j] = str(count)\n",
    "            strarr[j-1] = string[i]\n",
    "            j -= 2\n",
    "            count = 1\n",
    "    return ''.join(strarr[j+1:])"
   ]
  },
  {
   "cell_type": "code",
   "execution_count": 176,
   "metadata": {},
   "outputs": [
    {
     "name": "stderr",
     "output_type": "stream",
     "text": [
      ".\n",
      "----------------------------------------------------------------------\n",
      "Ran 1 test in 0.007s\n",
      "\n",
      "OK\n"
     ]
    }
   ],
   "source": [
    "class Test(unittest.TestCase):\n",
    "    '''Test Cases'''\n",
    "    data = [\n",
    "        ('aabcccccaaa', 'a2b1c5a3'),\n",
    "        ('abcdef', 'abcdef')\n",
    "    ]\n",
    "    def test_strcompress(self):\n",
    "        for test_string, expected in self.data:\n",
    "            actual = strcompress(test_string)\n",
    "            self.assertEqual(actual, expected)\n",
    "\n",
    "if __name__ == \"__main__\":\n",
    "    unittest.main(argv=['first-ag-is-ignored'], exit=False)"
   ]
  }
 ],
 "metadata": {
  "kernelspec": {
   "display_name": "Python 3",
   "language": "python",
   "name": "python3"
  },
  "language_info": {
   "codemirror_mode": {
    "name": "ipython",
    "version": 3
   },
   "file_extension": ".py",
   "mimetype": "text/x-python",
   "name": "python",
   "nbconvert_exporter": "python",
   "pygments_lexer": "ipython3",
   "version": "3.6.3"
  }
 },
 "nbformat": 4,
 "nbformat_minor": 2
}
