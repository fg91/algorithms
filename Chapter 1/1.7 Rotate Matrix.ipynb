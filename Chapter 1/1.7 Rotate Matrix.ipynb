{
 "cells": [
  {
   "cell_type": "markdown",
   "metadata": {},
   "source": [
    "Time complexity O(n^2)"
   ]
  },
  {
   "cell_type": "code",
   "execution_count": 1,
   "metadata": {
    "collapsed": true
   },
   "outputs": [],
   "source": [
    "import unittest"
   ]
  },
  {
   "cell_type": "code",
   "execution_count": 4,
   "metadata": {
    "collapsed": true
   },
   "outputs": [],
   "source": [
    "def rotatematrix(matrix):\n",
    "    \"\"\" Rotates a matrix clockwise by 90° \"\"\"\n",
    "    if len(matrix) == 0 or len(matrix) != len(matrix[0]):\n",
    "        return False\n",
    "    n = len(matrix)\n",
    "    for layer in range(int(n/2)):\n",
    "        first = layer\n",
    "        last  = n - layer - 1\n",
    "        for i in range(first,last):\n",
    "            # Save the Top\n",
    "            top = matrix[first][i]\n",
    "            # Left -> Top\n",
    "            matrix[first][i] = matrix[last-i+first][first]\n",
    "            # Bottom -> Left\n",
    "            matrix[last-i+first][first] = matrix[last][last-i+first]\n",
    "            # Right -> Bottom\n",
    "            matrix[last][last-i+first] = matrix[i][last]\n",
    "            # Top -> Right\n",
    "            matrix[i][last] = top\n",
    "    return matrix"
   ]
  },
  {
   "cell_type": "code",
   "execution_count": 5,
   "metadata": {},
   "outputs": [
    {
     "name": "stderr",
     "output_type": "stream",
     "text": [
      ".\n",
      "----------------------------------------------------------------------\n",
      "Ran 1 test in 0.002s\n",
      "\n",
      "OK\n"
     ]
    }
   ],
   "source": [
    "class Test(unittest.TestCase):\n",
    "    \"\"\" Tests the rotatematrix function \"\"\"\n",
    "    data = [\n",
    "        ([\n",
    "            [1, 2, 3, 4, 5],\n",
    "            [6, 7, 8, 9, 10],\n",
    "            [11, 12, 13, 14, 15],\n",
    "            [16, 17, 18, 19, 20],\n",
    "            [21, 22, 23, 24, 25]\n",
    "        ], [\n",
    "            [21, 16, 11, 6, 1],\n",
    "            [22, 17, 12, 7, 2],\n",
    "            [23, 18, 13, 8, 3],\n",
    "            [24, 19, 14, 9, 4],\n",
    "            [25, 20, 15, 10, 5]\n",
    "        ])\n",
    "    ]\n",
    "    def test_rotatematrix(self):\n",
    "        for testmatrix, rotmatrix in self.data:\n",
    "            actual = rotatematrix(testmatrix)\n",
    "            self.assertEqual(actual, rotmatrix)\n",
    "\n",
    "if __name__==\"__main__\":\n",
    "    unittest.main(argv=['first-arg-is-ignored'], exit=False)"
   ]
  },
  {
   "cell_type": "code",
   "execution_count": null,
   "metadata": {
    "collapsed": true
   },
   "outputs": [],
   "source": []
  }
 ],
 "metadata": {
  "kernelspec": {
   "display_name": "Python 3",
   "language": "python",
   "name": "python3"
  },
  "language_info": {
   "codemirror_mode": {
    "name": "ipython",
    "version": 3
   },
   "file_extension": ".py",
   "mimetype": "text/x-python",
   "name": "python",
   "nbconvert_exporter": "python",
   "pygments_lexer": "ipython3",
   "version": "3.6.3"
  }
 },
 "nbformat": 4,
 "nbformat_minor": 2
}
