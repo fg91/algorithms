{
 "cells": [
  {
   "cell_type": "markdown",
   "metadata": {},
   "source": [
    "Time complexity O(n)"
   ]
  },
  {
   "cell_type": "code",
   "execution_count": 69,
   "metadata": {
    "collapsed": true
   },
   "outputs": [],
   "source": [
    "import unittest"
   ]
  },
  {
   "cell_type": "code",
   "execution_count": 122,
   "metadata": {},
   "outputs": [],
   "source": [
    "def URLify(string, true_len):\n",
    "    \"\"\" This function replaces all ' ' with %20 \"\"\"\n",
    "    count = 0\n",
    "    for i in range(true_len):\n",
    "        if string[i] == ' ':\n",
    "            count += 1\n",
    "    \n",
    "    new_index = true_len - 1 + 2*count\n",
    " \n",
    "    for j in reversed(range(true_len)):\n",
    "        if string[j] != ' ':\n",
    "            string[new_index] = string[j]\n",
    "            new_index -= 1\n",
    "        else:\n",
    "            string[new_index-2:new_index+1] = \"%20\"\n",
    "            new_index -= 3\n",
    "            \n",
    "    return string[:true_len + 2*count]"
   ]
  },
  {
   "cell_type": "code",
   "execution_count": 123,
   "metadata": {},
   "outputs": [
    {
     "name": "stderr",
     "output_type": "stream",
     "text": [
      ".\n",
      "----------------------------------------------------------------------\n",
      "Ran 1 test in 0.003s\n",
      "\n",
      "OK\n"
     ]
    }
   ],
   "source": [
    "class Test(unittest.TestCase):\n",
    "    \"\"\" Test cases \"\"\"\n",
    "    #Using python lists because Python strings are immutable\n",
    "    data = [\n",
    "        (list('much ado about nothing                 '), 22,\n",
    "         list('much%20ado%20about%20nothing')),\n",
    "        (list('Mr John Smith                  '), 13, list('Mr%20John%20Smith'))\n",
    "    ]\n",
    "    \n",
    "    def test_urlify(self):\n",
    "        for [test_string, length, expected] in self.data:\n",
    "            actual = URLify(test_string, length)\n",
    "            self.assertEqual(actual, expected)\n",
    "            \n",
    "    if __name__ == \"__main__\":\n",
    "        unittest.main(argv=['first-arg-is-ignored'], exit=False)"
   ]
  },
  {
   "cell_type": "code",
   "execution_count": null,
   "metadata": {
    "collapsed": true
   },
   "outputs": [],
   "source": []
  }
 ],
 "metadata": {
  "kernelspec": {
   "display_name": "Python 3",
   "language": "python",
   "name": "python3"
  },
  "language_info": {
   "codemirror_mode": {
    "name": "ipython",
    "version": 3
   },
   "file_extension": ".py",
   "mimetype": "text/x-python",
   "name": "python",
   "nbconvert_exporter": "python",
   "pygments_lexer": "ipython3",
   "version": "3.6.3"
  }
 },
 "nbformat": 4,
 "nbformat_minor": 2
}
