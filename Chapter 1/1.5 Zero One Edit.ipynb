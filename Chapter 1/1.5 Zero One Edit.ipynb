{
 "cells": [
  {
   "cell_type": "markdown",
   "metadata": {},
   "source": [
    "Time complexity O(N) if N is the length of the shorter string"
   ]
  },
  {
   "cell_type": "code",
   "execution_count": 1,
   "metadata": {
    "collapsed": true
   },
   "outputs": [],
   "source": [
    "import unittest"
   ]
  },
  {
   "cell_type": "code",
   "execution_count": 2,
   "metadata": {
    "collapsed": true
   },
   "outputs": [],
   "source": [
    "def zoedit(string1, string2):\n",
    "    \"\"\" Determines whether string1 and string 2 are zero or one edits away from each other \"\"\"\n",
    "    if abs(len(string1) -len(string2)) > 1:\n",
    "        return False\n",
    "    short, long = (string1, string2) if len(string1) < len(string2) else (string2, string1)\n",
    "    itshort = 0\n",
    "    itlong  = 0\n",
    "    founddifference = False\n",
    "    while(itshort < len(short) and itlong < len(long)):\n",
    "        if short[itshort] != long[itlong]:\n",
    "            if founddifference:\n",
    "                return False\n",
    "            founddifference = True\n",
    "            if len(short) == len(long):\n",
    "                itshort += 1                   # On replace move shorter pointer\n",
    "        else:\n",
    "            itshort += 1                       # If matching move shorter pointer\n",
    "        itlong += 1                            # Always move pointer for longer string\n",
    "    return True"
   ]
  },
  {
   "cell_type": "code",
   "execution_count": 3,
   "metadata": {},
   "outputs": [
    {
     "name": "stderr",
     "output_type": "stream",
     "text": [
      ".\n",
      "----------------------------------------------------------------------\n",
      "Ran 1 test in 0.013s\n",
      "\n",
      "OK\n"
     ]
    }
   ],
   "source": [
    "class Test(unittest.TestCase):\n",
    "    \"\"\" Test cases \"\"\"\n",
    "    data = [\n",
    "        ('pale', 'ple', True),\n",
    "        ('pales', 'pale', True),\n",
    "        ('pale', 'bale', True),\n",
    "        ('paleabc', 'pleabc', True),\n",
    "        ('pale', 'ble', False),\n",
    "        ('a', 'b', True),\n",
    "        ('', 'd', True),\n",
    "        ('d', 'de', True),\n",
    "        ('pale', 'pale', True),\n",
    "        ('pale', 'ple', True),\n",
    "        ('ple', 'pale', True),\n",
    "        ('pale', 'bale', True),\n",
    "        ('pale', 'bake', False),\n",
    "        ('pale', 'pse', False),\n",
    "        ('ples', 'pales', True),\n",
    "        ('pale', 'pas', False),\n",
    "        ('pas', 'pale', False),\n",
    "        ('pale', 'pkle', True),\n",
    "        ('pkle', 'pable', False),\n",
    "        ('pal', 'palks', False),\n",
    "        ('palks', 'pal', False)\n",
    "    ]\n",
    "    def test_zoedit(self):\n",
    "        for str1, str2, expected in self.data:\n",
    "            actual = zoedit(str1, str2)\n",
    "            self.assertEqual(actual, expected)\n",
    "    \n",
    "if __name__ == \"__main__\":\n",
    "    unittest.main(argv=['first-arg-is-ignored'], exit=False)"
   ]
  }
 ],
 "metadata": {
  "kernelspec": {
   "display_name": "Python 3",
   "language": "python",
   "name": "python3"
  },
  "language_info": {
   "codemirror_mode": {
    "name": "ipython",
    "version": 3
   },
   "file_extension": ".py",
   "mimetype": "text/x-python",
   "name": "python",
   "nbconvert_exporter": "python",
   "pygments_lexer": "ipython3",
   "version": "3.6.3"
  }
 },
 "nbformat": 4,
 "nbformat_minor": 2
}
