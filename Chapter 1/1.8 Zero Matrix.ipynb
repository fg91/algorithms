{
 "cells": [
  {
   "cell_type": "markdown",
   "metadata": {},
   "source": [
    "Time complexity O(m*n)"
   ]
  },
  {
   "cell_type": "code",
   "execution_count": 1,
   "metadata": {
    "collapsed": true
   },
   "outputs": [],
   "source": [
    "import unittest"
   ]
  },
  {
   "cell_type": "code",
   "execution_count": 2,
   "metadata": {
    "collapsed": true
   },
   "outputs": [],
   "source": [
    "def zero_matrix(matrix):\n",
    "    \"\"\" Sets the entire row and column to 0 if a 0 is found in a m x n matrix \"\"\"\n",
    "    m = len(matrix)\n",
    "    n = len(matrix[0])\n",
    "    rowhaszero = False\n",
    "    columnhaszero = False\n",
    "    \n",
    "    # Check first column for zero\n",
    "    for i in range(m):\n",
    "        if matrix[i][0] == 0:\n",
    "            columnhaszero = True\n",
    "            break\n",
    "    \n",
    "    # Check first row for zero\n",
    "    for j in range(n):\n",
    "        if matrix[0][j] == 0:\n",
    "            rowhaszero = True\n",
    "            break\n",
    "    \n",
    "    # Check rest of matrix\n",
    "    for i in range(1,m):\n",
    "        for j in range(1,n):\n",
    "            if matrix[i][j] == 0:\n",
    "                matrix[i][0] = 0\n",
    "                matrix[0][j] = 0\n",
    "    \n",
    "    # Nullify the rows\n",
    "    for i in range(m):\n",
    "        if matrix[i][0] == 0:\n",
    "            nullifyRow(matrix,i)\n",
    "    \n",
    "    # Nullify the columns\n",
    "    for j in range(n):\n",
    "        if matrix[0][j] == 0:\n",
    "            nullifyCol(matrix,j)\n",
    "    \n",
    "    # Nullify the first row\n",
    "    if rowhaszero:\n",
    "        nullifyRow(matrix,0)\n",
    "    \n",
    "    # Nullify the first column\n",
    "    if columnhaszero:\n",
    "        nullifyCol(matrix,0)\n",
    "        \n",
    "    return matrix\n",
    "\n",
    "def nullifyRow(matrix,row):\n",
    "    \"\"\" Nullifies an entire row \"\"\"\n",
    "    for j in range(len(matrix[0])):\n",
    "        matrix[row][j] = 0\n",
    "        \n",
    "def nullifyCol(matrix,col):\n",
    "    \"\"\" Nullifies an entire column \"\"\"\n",
    "    for i in range(len(matrix)):\n",
    "        matrix[i][col] = 0"
   ]
  },
  {
   "cell_type": "code",
   "execution_count": 3,
   "metadata": {},
   "outputs": [
    {
     "name": "stderr",
     "output_type": "stream",
     "text": [
      ".\n",
      "----------------------------------------------------------------------\n",
      "Ran 1 test in 0.002s\n",
      "\n",
      "OK\n"
     ]
    }
   ],
   "source": [
    "class Test(unittest.TestCase):\n",
    "    data = [\n",
    "        ([\n",
    "            [1, 2, 3, 4, 0],\n",
    "            [6, 0, 8, 9, 10],\n",
    "            [11, 12, 13, 14, 15],\n",
    "            [16, 0, 18, 19, 20],\n",
    "            [21, 22, 23, 24, 25]\n",
    "        ], [\n",
    "            [0, 0, 0, 0, 0],\n",
    "            [0, 0, 0, 0, 0],\n",
    "            [11, 0, 13, 14, 0],\n",
    "            [0, 0, 0, 0, 0],\n",
    "            [21, 0, 23, 24, 0]\n",
    "        ])\n",
    "    ]\n",
    "    def test_zero_matrix(self):\n",
    "        for [test_matrix, expected] in self.data:\n",
    "            actual = zero_matrix(test_matrix)\n",
    "            self.assertEqual(actual, expected)\n",
    "if __name__==\"__main__\":\n",
    "    unittest.main(argv=['first-arg-is-ignored'], exit=False)\n",
    "    "
   ]
  }
 ],
 "metadata": {
  "kernelspec": {
   "display_name": "Python 3",
   "language": "python",
   "name": "python3"
  },
  "language_info": {
   "codemirror_mode": {
    "name": "ipython",
    "version": 3
   },
   "file_extension": ".py",
   "mimetype": "text/x-python",
   "name": "python",
   "nbconvert_exporter": "python",
   "pygments_lexer": "ipython3",
   "version": "3.6.3"
  }
 },
 "nbformat": 4,
 "nbformat_minor": 2
}
