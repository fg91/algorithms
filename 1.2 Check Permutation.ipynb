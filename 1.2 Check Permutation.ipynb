{
 "cells": [
  {
   "cell_type": "markdown",
   "metadata": {},
   "source": [
    "Time complexity is O(n)"
   ]
  },
  {
   "cell_type": "code",
   "execution_count": 25,
   "metadata": {
    "collapsed": true
   },
   "outputs": [],
   "source": [
    "import unittest"
   ]
  },
  {
   "cell_type": "code",
   "execution_count": 75,
   "metadata": {
    "collapsed": true
   },
   "outputs": [],
   "source": [
    "def checkpermutation(string1, string2):\n",
    "    \"\"\" Tests whether two strings are permutations of each other. Assumes ASCII \"\"\"\n",
    "    \n",
    "    if(len(string1)!=len(string2)): return False\n",
    "    char_set = [0 for _ in range(128)]\n",
    "    for char in string1:\n",
    "        char_set[ord(char)] += 1\n",
    "    for char in string2:\n",
    "        char_set[ord(char)] -= 1\n",
    "        if char_set[ord(char)] < 0: return False\n",
    "\n",
    "\n",
    "    # for count in char_set:\n",
    "    #    if count != 0: return False\n",
    "    return True"
   ]
  },
  {
   "cell_type": "code",
   "execution_count": 76,
   "metadata": {},
   "outputs": [
    {
     "name": "stderr",
     "output_type": "stream",
     "text": [
      "F\n",
      "======================================================================\n",
      "FAIL: test_checkpermutation (__main__.Test)\n",
      "----------------------------------------------------------------------\n",
      "Traceback (most recent call last):\n",
      "  File \"<ipython-input-76-bd83fe8e4a5a>\", line 9, in test_checkpermutation\n",
      "    self.assertTrue(actual)\n",
      "AssertionError: False is not true\n",
      "\n",
      "----------------------------------------------------------------------\n",
      "Ran 1 test in 0.004s\n",
      "\n",
      "FAILED (failures=1)\n"
     ]
    }
   ],
   "source": [
    "class Test(unittest.TestCase):\n",
    "    dataT = [(\"Fab io%\", \" %Fbaio\"),(\"catsanddogs\",\"dogsandcats\"),(\"abbacd\",\"abbcad\")]\n",
    "    dataF = [(\"That\",\"This%\"),(\"Cat1234\",\"Cats1234\"),(\"LordofTheTings\",\"RingsofTheLords\"), (\"Aa\",\"aa\")]\n",
    "    \n",
    "    def test_checkpermutation(self):\n",
    "        #true check\n",
    "        for test_strings in self.dataT:\n",
    "            actual = checkpermutation(*test_strings)\n",
    "            self.assertTrue(actual)\n",
    "        for test_strings in self.dataF:\n",
    "            actual = checkpermutation(*test_strings)\n",
    "            self.assertFalse(actual)\n",
    "\n",
    "if __name__ == \"__main__\":\n",
    "    unittest.main(argv=['first-ag-is-ignored'], exit=False)"
   ]
  },
  {
   "cell_type": "code",
   "execution_count": null,
   "metadata": {
    "collapsed": true
   },
   "outputs": [],
   "source": []
  }
 ],
 "metadata": {
  "kernelspec": {
   "display_name": "Python 3",
   "language": "python",
   "name": "python3"
  },
  "language_info": {
   "codemirror_mode": {
    "name": "ipython",
    "version": 3
   },
   "file_extension": ".py",
   "mimetype": "text/x-python",
   "name": "python",
   "nbconvert_exporter": "python",
   "pygments_lexer": "ipython3",
   "version": "3.6.3"
  }
 },
 "nbformat": 4,
 "nbformat_minor": 2
}
