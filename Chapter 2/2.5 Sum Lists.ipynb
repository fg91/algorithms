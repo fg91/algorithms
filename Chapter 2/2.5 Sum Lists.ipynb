{
 "cells": [
  {
   "cell_type": "code",
   "execution_count": 164,
   "metadata": {
    "collapsed": true
   },
   "outputs": [],
   "source": [
    "from LinkedList import LinkedList\n",
    "from LinkedList import LinkedListNode"
   ]
  },
  {
   "cell_type": "markdown",
   "metadata": {},
   "source": [
    "## Solution 1"
   ]
  },
  {
   "cell_type": "code",
   "execution_count": 165,
   "metadata": {
    "collapsed": true
   },
   "outputs": [],
   "source": [
    "def sumLists_func(c1, c2, carry, result):\n",
    "    \"\"\" Helper function for sumLists \"\"\"\n",
    "    if c1 is None and c2 is None and carry is 0:\n",
    "        return \n",
    "\n",
    "    value = carry\n",
    "    if c1 is not None:\n",
    "        value += c1.value\n",
    "    if c2 is not None:\n",
    "        value += c2.value\n",
    "    result.value = value % 10\n",
    "    if c1 is not None or not c2 is None:\n",
    "        result.next = LinkedListNode(0)\n",
    "        more = sumLists_func(None if c1 is None else c1.next,\n",
    "                            None if c2 is None else c2.next,\n",
    "                            1 if value >= 10 else 0,\n",
    "                            result.next)\n",
    "        result.next = more\n",
    "    return result\n",
    "    "
   ]
  },
  {
   "cell_type": "code",
   "execution_count": 166,
   "metadata": {
    "collapsed": true
   },
   "outputs": [],
   "source": [
    "def sumLists(ll1, ll2):\n",
    "    \"\"\" Adds two numbers represented by linked lists in reverse. Returns the reversed result as a linked list. \"\"\"\n",
    "    result = LinkedListNode(0)\n",
    "    result = sumLists_func(ll1.head, ll2.head, 0, result)\n",
    "    result_list = LinkedList()\n",
    "    result_list.head = result\n",
    "    return result_list\n"
   ]
  },
  {
   "cell_type": "code",
   "execution_count": 167,
   "metadata": {
    "collapsed": true
   },
   "outputs": [],
   "source": [
    "ll1 = LinkedList()\n",
    "ll2 = LinkedList()"
   ]
  },
  {
   "cell_type": "code",
   "execution_count": 168,
   "metadata": {
    "collapsed": true
   },
   "outputs": [],
   "source": [
    "ll1.add_multiple([9,7,8])\n",
    "ll2.add_multiple([6,8,5])"
   ]
  },
  {
   "cell_type": "code",
   "execution_count": 169,
   "metadata": {},
   "outputs": [
    {
     "name": "stdout",
     "output_type": "stream",
     "text": [
      "5 -> 6 -> 4 -> 1\n"
     ]
    }
   ],
   "source": [
    "print(sumLists(ll1,ll2))"
   ]
  },
  {
   "cell_type": "markdown",
   "metadata": {},
   "source": [
    "## Solution 2"
   ]
  },
  {
   "cell_type": "code",
   "execution_count": 170,
   "metadata": {
    "collapsed": true
   },
   "outputs": [],
   "source": [
    "def sum_lists(l1, l2):\n",
    "    \"\"\" Calculates the sum of two numbers represented in reverse by two linked lits \"\"\"\n",
    "    c1, c2 = l1.head, l2.head\n",
    "    resultlist = LinkedList()\n",
    "    carry = 0\n",
    "    while c1 or c2:\n",
    "        result = carry\n",
    "        if c1:\n",
    "            result += c1.value\n",
    "            c1 = c1.next\n",
    "        if c2:\n",
    "            result += c2.value\n",
    "            c2 = c2.next\n",
    "        \n",
    "        resultlist.add(result % 10)\n",
    "        carry = result//10\n",
    "    \n",
    "    if carry != 0:\n",
    "        resultlist.add(carry)\n",
    "        \n",
    "    return resultlist\n",
    "        "
   ]
  },
  {
   "cell_type": "code",
   "execution_count": 171,
   "metadata": {
    "collapsed": true
   },
   "outputs": [],
   "source": [
    "ll1 = LinkedList()\n",
    "ll2 = LinkedList()"
   ]
  },
  {
   "cell_type": "code",
   "execution_count": 172,
   "metadata": {
    "collapsed": true
   },
   "outputs": [],
   "source": [
    "ll1.add_multiple([9,7,8])\n",
    "ll2.add_multiple([6,8,5])"
   ]
  },
  {
   "cell_type": "code",
   "execution_count": 173,
   "metadata": {},
   "outputs": [
    {
     "name": "stdout",
     "output_type": "stream",
     "text": [
      "5 -> 6 -> 4 -> 1\n"
     ]
    }
   ],
   "source": [
    "print(sum_lists(ll1,ll2))"
   ]
  },
  {
   "cell_type": "markdown",
   "metadata": {},
   "source": [
    "## Solution 3 Follow up"
   ]
  },
  {
   "cell_type": "code",
   "execution_count": 174,
   "metadata": {
    "collapsed": true
   },
   "outputs": [],
   "source": [
    "def sumLists_follow_up(ll1, ll2):\n",
    "    \"\"\" Adds two numbers represented by linked lists. Returns the result as a linked list. \"\"\"\n",
    "    l1 = len(ll1)\n",
    "    l2 = len(ll2)\n",
    "    shorter, longer = (ll1, ll2) if l1 < l2 else (ll2, ll1)\n",
    "    # Pad the shorter list with zeros in the beginning so both lists have the same length\n",
    "    for _ in range(abs(l1-l2)):\n",
    "        shorter.add_to_beginning(0)\n",
    "    \n",
    "    result = LinkedListNode(0)\n",
    "    carry = sumLists_follow_up_helper(shorter.head, longer.head, result)\n",
    "    result_list = LinkedList()\n",
    "    result_list.head = result\n",
    "    # In case the result of the first addition is larger than 10, add carry to the beginning of the result_list\n",
    "    if carry > 0:\n",
    "        result_list.add_to_beginning(carry)\n",
    "    return result_list"
   ]
  },
  {
   "cell_type": "code",
   "execution_count": 175,
   "metadata": {},
   "outputs": [],
   "source": [
    "def sumLists_follow_up_helper(c1, c2, result):\n",
    "    \"\"\" Helper function for sumLists_follow_up \"\"\"\n",
    "    if c1 is None and c2 is None:\n",
    "        return 0\n",
    "    if c1.next and c2.next:\n",
    "        result.next = LinkedListNode(0)\n",
    "    sum = c1.value + c2.value\n",
    "    carry = sumLists_follow_up_helper(c1.next, c2.next, result.next)\n",
    "    sum += carry\n",
    "\n",
    "    result.value = sum % 10\n",
    "    return sum//10"
   ]
  },
  {
   "cell_type": "code",
   "execution_count": 176,
   "metadata": {
    "collapsed": true
   },
   "outputs": [],
   "source": [
    "ll1 = LinkedList()\n",
    "ll2 = LinkedList()"
   ]
  },
  {
   "cell_type": "code",
   "execution_count": 177,
   "metadata": {
    "collapsed": true
   },
   "outputs": [],
   "source": [
    "ll1.add_multiple([9,2,3,4,6])\n",
    "ll2.add_multiple([9,9,8,5])"
   ]
  },
  {
   "cell_type": "code",
   "execution_count": 178,
   "metadata": {},
   "outputs": [
    {
     "name": "stdout",
     "output_type": "stream",
     "text": [
      "1 -> 0 -> 2 -> 3 -> 3 -> 1\n"
     ]
    }
   ],
   "source": [
    "print(sumLists_follow_up(ll1,ll2))"
   ]
  },
  {
   "cell_type": "code",
   "execution_count": null,
   "metadata": {
    "collapsed": true
   },
   "outputs": [],
   "source": []
  }
 ],
 "metadata": {
  "kernelspec": {
   "display_name": "Python 3",
   "language": "python",
   "name": "python3"
  },
  "language_info": {
   "codemirror_mode": {
    "name": "ipython",
    "version": 3
   },
   "file_extension": ".py",
   "mimetype": "text/x-python",
   "name": "python",
   "nbconvert_exporter": "python",
   "pygments_lexer": "ipython3",
   "version": "3.6.3"
  }
 },
 "nbformat": 4,
 "nbformat_minor": 2
}
